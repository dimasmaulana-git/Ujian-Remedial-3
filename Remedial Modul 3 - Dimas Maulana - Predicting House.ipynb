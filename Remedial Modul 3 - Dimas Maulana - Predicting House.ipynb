{
 "cells": [
  {
   "cell_type": "markdown",
   "metadata": {},
   "source": [
    "## HOUSE PRICE PREDICTION\n",
    "\n",
    "<br>**DIMAS MAULANA**\n",
    "<br>**UJIAN REMEDIAL - MODUL 3**"
   ]
  },
  {
   "cell_type": "markdown",
   "metadata": {},
   "source": [
    "## Variable Description \n",
    "\n",
    "Notes on Specific Variables\n",
    "Rooms: Number of rooms\n",
    "\n",
    "Price: Price in dollars\n",
    "\n",
    "Method: S - property sold; SP - property sold prior; PI - property passed in; PN - sold prior not disclosed; SN - sold not disclosed; NB - no bid; VB - vendor bid; W - withdrawn prior to auction; SA - sold after auction; SS - sold after auction price not disclosed. N/A - price or highest bid not available.\n",
    "\n",
    "Type: br - bedroom(s); h - house,cottage,villa, semi,terrace; u - unit, duplex; t - townhouse; dev site - development site; o res - other residential.\n",
    "\n",
    "SellerG: Real Estate Agent\n",
    "\n",
    "Date: Date sold\n",
    "\n",
    "Distance: Distance from CBD\n",
    "\n",
    "Regionname: General Region (West, North West, North, North east …etc)\n",
    "\n",
    "Propertycount: Number of properties that exist in the suburb.\n",
    "\n",
    "Bedroom2 : Scraped # of Bedrooms (from different source)\n",
    "\n",
    "Bathroom: Number of Bathrooms\n",
    "\n",
    "Car: Number of carspots\n",
    "\n",
    "Landsize: Land Size\n",
    "\n",
    "BuildingArea: Building Size\n",
    "\n",
    "CouncilArea: Governing council for the area\n",
    "\n",
    "Acknowledgements"
   ]
  },
  {
   "cell_type": "markdown",
   "metadata": {},
   "source": [
    "### A. Data Cleaning & Preprocessing (15 poin)\n",
    "\n",
    "Untuk ujian ini, pakai data 5000 baris data pertama [0:5000] saja. \n",
    "\n",
    "1. Jalankan data cleaning & preprocessing sesuai kondisi data dan tujuan pembuatan model!\n",
    "2. Beri penjelasan dan argumentasi setiap langkah Anda dalam Data Cleaning & Preprocessing!"
   ]
  },
  {
   "cell_type": "code",
   "execution_count": 1,
   "metadata": {},
   "outputs": [],
   "source": [
    "import sqlalchemy as db\n",
    "import mysql.connector\n",
    "import pandas as pd\n",
    "import pymysql\n",
    "import matplotlib.pyplot as plt\n",
    "import numpy as np\n",
    "import seaborn as sns\n",
    "import statistics as st\n",
    "from scipy import stats\n",
    "import statsmodels.api as sm\n",
    "import plotly.express as px\n",
    "import plotly.graph_objs as go\n",
    "from plotly.offline import init_notebook_mode,iplot"
   ]
  },
  {
   "cell_type": "code",
   "execution_count": 2,
   "metadata": {},
   "outputs": [],
   "source": [
    "df = pd.read_csv('house.csv')"
   ]
  },
  {
   "cell_type": "code",
   "execution_count": 3,
   "metadata": {},
   "outputs": [],
   "source": [
    "df_copy = df.copy()"
   ]
  },
  {
   "cell_type": "markdown",
   "metadata": {},
   "source": [
    "Saya membuat df_copy dari dataset sebagai langkah awal sebelum data cleaning dan processing"
   ]
  },
  {
   "cell_type": "code",
   "execution_count": 4,
   "metadata": {},
   "outputs": [
    {
     "data": {
      "text/plain": [
       "(13580, 21)"
      ]
     },
     "execution_count": 4,
     "metadata": {},
     "output_type": "execute_result"
    }
   ],
   "source": [
    "df.shape"
   ]
  },
  {
   "cell_type": "code",
   "execution_count": 5,
   "metadata": {},
   "outputs": [
    {
     "data": {
      "text/plain": [
       "count    1.358000e+04\n",
       "mean     1.075684e+06\n",
       "std      6.393107e+05\n",
       "min      8.500000e+04\n",
       "25%      6.500000e+05\n",
       "50%      9.030000e+05\n",
       "75%      1.330000e+06\n",
       "max      9.000000e+06\n",
       "Name: Price, dtype: float64"
      ]
     },
     "execution_count": 5,
     "metadata": {},
     "output_type": "execute_result"
    }
   ],
   "source": [
    "df.Price.describe()"
   ]
  },
  {
   "cell_type": "code",
   "execution_count": 6,
   "metadata": {
    "scrolled": false
   },
   "outputs": [
    {
     "data": {
      "text/html": [
       "<div>\n",
       "<style scoped>\n",
       "    .dataframe tbody tr th:only-of-type {\n",
       "        vertical-align: middle;\n",
       "    }\n",
       "\n",
       "    .dataframe tbody tr th {\n",
       "        vertical-align: top;\n",
       "    }\n",
       "\n",
       "    .dataframe thead th {\n",
       "        text-align: right;\n",
       "    }\n",
       "</style>\n",
       "<table border=\"1\" class=\"dataframe\">\n",
       "  <thead>\n",
       "    <tr style=\"text-align: right;\">\n",
       "      <th></th>\n",
       "      <th>count</th>\n",
       "      <th>mean</th>\n",
       "      <th>std</th>\n",
       "      <th>min</th>\n",
       "      <th>25%</th>\n",
       "      <th>50%</th>\n",
       "      <th>75%</th>\n",
       "      <th>max</th>\n",
       "    </tr>\n",
       "  </thead>\n",
       "  <tbody>\n",
       "    <tr>\n",
       "      <th>Rooms</th>\n",
       "      <td>13580.0</td>\n",
       "      <td>2.937997e+00</td>\n",
       "      <td>0.955748</td>\n",
       "      <td>1.00000</td>\n",
       "      <td>2.000000</td>\n",
       "      <td>3.000000</td>\n",
       "      <td>3.000000e+00</td>\n",
       "      <td>1.000000e+01</td>\n",
       "    </tr>\n",
       "    <tr>\n",
       "      <th>Price</th>\n",
       "      <td>13580.0</td>\n",
       "      <td>1.075684e+06</td>\n",
       "      <td>639310.724296</td>\n",
       "      <td>85000.00000</td>\n",
       "      <td>650000.000000</td>\n",
       "      <td>903000.000000</td>\n",
       "      <td>1.330000e+06</td>\n",
       "      <td>9.000000e+06</td>\n",
       "    </tr>\n",
       "    <tr>\n",
       "      <th>Distance</th>\n",
       "      <td>13580.0</td>\n",
       "      <td>1.013778e+01</td>\n",
       "      <td>5.868725</td>\n",
       "      <td>0.00000</td>\n",
       "      <td>6.100000</td>\n",
       "      <td>9.200000</td>\n",
       "      <td>1.300000e+01</td>\n",
       "      <td>4.810000e+01</td>\n",
       "    </tr>\n",
       "    <tr>\n",
       "      <th>Postcode</th>\n",
       "      <td>13580.0</td>\n",
       "      <td>3.105302e+03</td>\n",
       "      <td>90.676964</td>\n",
       "      <td>3000.00000</td>\n",
       "      <td>3044.000000</td>\n",
       "      <td>3084.000000</td>\n",
       "      <td>3.148000e+03</td>\n",
       "      <td>3.977000e+03</td>\n",
       "    </tr>\n",
       "    <tr>\n",
       "      <th>Bedroom2</th>\n",
       "      <td>13580.0</td>\n",
       "      <td>2.914728e+00</td>\n",
       "      <td>0.965921</td>\n",
       "      <td>0.00000</td>\n",
       "      <td>2.000000</td>\n",
       "      <td>3.000000</td>\n",
       "      <td>3.000000e+00</td>\n",
       "      <td>2.000000e+01</td>\n",
       "    </tr>\n",
       "    <tr>\n",
       "      <th>Bathroom</th>\n",
       "      <td>13580.0</td>\n",
       "      <td>1.534242e+00</td>\n",
       "      <td>0.691712</td>\n",
       "      <td>0.00000</td>\n",
       "      <td>1.000000</td>\n",
       "      <td>1.000000</td>\n",
       "      <td>2.000000e+00</td>\n",
       "      <td>8.000000e+00</td>\n",
       "    </tr>\n",
       "    <tr>\n",
       "      <th>Car</th>\n",
       "      <td>13518.0</td>\n",
       "      <td>1.610075e+00</td>\n",
       "      <td>0.962634</td>\n",
       "      <td>0.00000</td>\n",
       "      <td>1.000000</td>\n",
       "      <td>2.000000</td>\n",
       "      <td>2.000000e+00</td>\n",
       "      <td>1.000000e+01</td>\n",
       "    </tr>\n",
       "    <tr>\n",
       "      <th>Landsize</th>\n",
       "      <td>13580.0</td>\n",
       "      <td>5.584161e+02</td>\n",
       "      <td>3990.669241</td>\n",
       "      <td>0.00000</td>\n",
       "      <td>177.000000</td>\n",
       "      <td>440.000000</td>\n",
       "      <td>6.510000e+02</td>\n",
       "      <td>4.330140e+05</td>\n",
       "    </tr>\n",
       "    <tr>\n",
       "      <th>BuildingArea</th>\n",
       "      <td>7130.0</td>\n",
       "      <td>1.519676e+02</td>\n",
       "      <td>541.014538</td>\n",
       "      <td>0.00000</td>\n",
       "      <td>93.000000</td>\n",
       "      <td>126.000000</td>\n",
       "      <td>1.740000e+02</td>\n",
       "      <td>4.451500e+04</td>\n",
       "    </tr>\n",
       "    <tr>\n",
       "      <th>YearBuilt</th>\n",
       "      <td>8205.0</td>\n",
       "      <td>1.964684e+03</td>\n",
       "      <td>37.273762</td>\n",
       "      <td>1196.00000</td>\n",
       "      <td>1940.000000</td>\n",
       "      <td>1970.000000</td>\n",
       "      <td>1.999000e+03</td>\n",
       "      <td>2.018000e+03</td>\n",
       "    </tr>\n",
       "    <tr>\n",
       "      <th>Lattitude</th>\n",
       "      <td>13580.0</td>\n",
       "      <td>-3.780920e+01</td>\n",
       "      <td>0.079260</td>\n",
       "      <td>-38.18255</td>\n",
       "      <td>-37.856822</td>\n",
       "      <td>-37.802355</td>\n",
       "      <td>-3.775640e+01</td>\n",
       "      <td>-3.740853e+01</td>\n",
       "    </tr>\n",
       "    <tr>\n",
       "      <th>Longtitude</th>\n",
       "      <td>13580.0</td>\n",
       "      <td>1.449952e+02</td>\n",
       "      <td>0.103916</td>\n",
       "      <td>144.43181</td>\n",
       "      <td>144.929600</td>\n",
       "      <td>145.000100</td>\n",
       "      <td>1.450583e+02</td>\n",
       "      <td>1.455264e+02</td>\n",
       "    </tr>\n",
       "    <tr>\n",
       "      <th>Propertycount</th>\n",
       "      <td>13580.0</td>\n",
       "      <td>7.454417e+03</td>\n",
       "      <td>4378.581772</td>\n",
       "      <td>249.00000</td>\n",
       "      <td>4380.000000</td>\n",
       "      <td>6555.000000</td>\n",
       "      <td>1.033100e+04</td>\n",
       "      <td>2.165000e+04</td>\n",
       "    </tr>\n",
       "  </tbody>\n",
       "</table>\n",
       "</div>"
      ],
      "text/plain": [
       "                 count          mean            std          min  \\\n",
       "Rooms          13580.0  2.937997e+00       0.955748      1.00000   \n",
       "Price          13580.0  1.075684e+06  639310.724296  85000.00000   \n",
       "Distance       13580.0  1.013778e+01       5.868725      0.00000   \n",
       "Postcode       13580.0  3.105302e+03      90.676964   3000.00000   \n",
       "Bedroom2       13580.0  2.914728e+00       0.965921      0.00000   \n",
       "Bathroom       13580.0  1.534242e+00       0.691712      0.00000   \n",
       "Car            13518.0  1.610075e+00       0.962634      0.00000   \n",
       "Landsize       13580.0  5.584161e+02    3990.669241      0.00000   \n",
       "BuildingArea    7130.0  1.519676e+02     541.014538      0.00000   \n",
       "YearBuilt       8205.0  1.964684e+03      37.273762   1196.00000   \n",
       "Lattitude      13580.0 -3.780920e+01       0.079260    -38.18255   \n",
       "Longtitude     13580.0  1.449952e+02       0.103916    144.43181   \n",
       "Propertycount  13580.0  7.454417e+03    4378.581772    249.00000   \n",
       "\n",
       "                         25%            50%           75%           max  \n",
       "Rooms               2.000000       3.000000  3.000000e+00  1.000000e+01  \n",
       "Price          650000.000000  903000.000000  1.330000e+06  9.000000e+06  \n",
       "Distance            6.100000       9.200000  1.300000e+01  4.810000e+01  \n",
       "Postcode         3044.000000    3084.000000  3.148000e+03  3.977000e+03  \n",
       "Bedroom2            2.000000       3.000000  3.000000e+00  2.000000e+01  \n",
       "Bathroom            1.000000       1.000000  2.000000e+00  8.000000e+00  \n",
       "Car                 1.000000       2.000000  2.000000e+00  1.000000e+01  \n",
       "Landsize          177.000000     440.000000  6.510000e+02  4.330140e+05  \n",
       "BuildingArea       93.000000     126.000000  1.740000e+02  4.451500e+04  \n",
       "YearBuilt        1940.000000    1970.000000  1.999000e+03  2.018000e+03  \n",
       "Lattitude         -37.856822     -37.802355 -3.775640e+01 -3.740853e+01  \n",
       "Longtitude        144.929600     145.000100  1.450583e+02  1.455264e+02  \n",
       "Propertycount    4380.000000    6555.000000  1.033100e+04  2.165000e+04  "
      ]
     },
     "execution_count": 6,
     "metadata": {},
     "output_type": "execute_result"
    }
   ],
   "source": [
    "df.describe().T"
   ]
  },
  {
   "cell_type": "code",
   "execution_count": 7,
   "metadata": {},
   "outputs": [
    {
     "name": "stdout",
     "output_type": "stream",
     "text": [
      "<class 'pandas.core.frame.DataFrame'>\n",
      "RangeIndex: 13580 entries, 0 to 13579\n",
      "Data columns (total 21 columns):\n",
      " #   Column         Non-Null Count  Dtype  \n",
      "---  ------         --------------  -----  \n",
      " 0   Suburb         13580 non-null  object \n",
      " 1   Address        13580 non-null  object \n",
      " 2   Rooms          13580 non-null  int64  \n",
      " 3   Type           13580 non-null  object \n",
      " 4   Price          13580 non-null  float64\n",
      " 5   Method         13580 non-null  object \n",
      " 6   SellerG        13580 non-null  object \n",
      " 7   Date           13580 non-null  object \n",
      " 8   Distance       13580 non-null  float64\n",
      " 9   Postcode       13580 non-null  float64\n",
      " 10  Bedroom2       13580 non-null  float64\n",
      " 11  Bathroom       13580 non-null  float64\n",
      " 12  Car            13518 non-null  float64\n",
      " 13  Landsize       13580 non-null  float64\n",
      " 14  BuildingArea   7130 non-null   float64\n",
      " 15  YearBuilt      8205 non-null   float64\n",
      " 16  CouncilArea    12211 non-null  object \n",
      " 17  Lattitude      13580 non-null  float64\n",
      " 18  Longtitude     13580 non-null  float64\n",
      " 19  Regionname     13580 non-null  object \n",
      " 20  Propertycount  13580 non-null  float64\n",
      "dtypes: float64(12), int64(1), object(8)\n",
      "memory usage: 2.2+ MB\n"
     ]
    }
   ],
   "source": [
    "df.info()"
   ]
  },
  {
   "cell_type": "code",
   "execution_count": 8,
   "metadata": {},
   "outputs": [],
   "source": [
    "df = df[:5000]"
   ]
  },
  {
   "cell_type": "markdown",
   "metadata": {},
   "source": [
    "## PREPROCESSING SECTION ##\n",
    "\n",
    "In this section, we will try to clean the dataset before starting the data visualization and data analysis. Some of the process in this section may include:\n",
    "\n",
    "1. Deleting redundant columns\n",
    "2. Handling NaN values from dataset\n",
    "3. Make transformation/adjustment for dataset if there's any\n",
    "4. Removing Outlier"
   ]
  },
  {
   "cell_type": "code",
   "execution_count": 9,
   "metadata": {
    "scrolled": false
   },
   "outputs": [
    {
     "name": "stdout",
     "output_type": "stream",
     "text": [
      "<class 'pandas.core.frame.DataFrame'>\n",
      "RangeIndex: 5000 entries, 0 to 4999\n",
      "Data columns (total 21 columns):\n",
      " #   Column         Non-Null Count  Dtype  \n",
      "---  ------         --------------  -----  \n",
      " 0   Suburb         5000 non-null   object \n",
      " 1   Address        5000 non-null   object \n",
      " 2   Rooms          5000 non-null   int64  \n",
      " 3   Type           5000 non-null   object \n",
      " 4   Price          5000 non-null   float64\n",
      " 5   Method         5000 non-null   object \n",
      " 6   SellerG        5000 non-null   object \n",
      " 7   Date           5000 non-null   object \n",
      " 8   Distance       5000 non-null   float64\n",
      " 9   Postcode       5000 non-null   float64\n",
      " 10  Bedroom2       5000 non-null   float64\n",
      " 11  Bathroom       5000 non-null   float64\n",
      " 12  Car            5000 non-null   float64\n",
      " 13  Landsize       5000 non-null   float64\n",
      " 14  BuildingArea   2838 non-null   float64\n",
      " 15  YearBuilt      3224 non-null   float64\n",
      " 16  CouncilArea    5000 non-null   object \n",
      " 17  Lattitude      5000 non-null   float64\n",
      " 18  Longtitude     5000 non-null   float64\n",
      " 19  Regionname     5000 non-null   object \n",
      " 20  Propertycount  5000 non-null   float64\n",
      "dtypes: float64(12), int64(1), object(8)\n",
      "memory usage: 820.4+ KB\n"
     ]
    }
   ],
   "source": [
    "df.info()"
   ]
  },
  {
   "cell_type": "markdown",
   "metadata": {},
   "source": [
    "**Interpretation of above information:**\n",
    "\n",
    "\n",
    "From the information in the cell above, we could see there is no redundant columns in the dataset. Hence, each column could be considered as mutually exclusive. Furthermore, the dataset above shows that each variable shows a numerical data value.\n",
    "\n",
    "\n",
    "**1. DELETING REDUNDANT COLUMNS** = **PASS**"
   ]
  },
  {
   "cell_type": "code",
   "execution_count": 10,
   "metadata": {
    "scrolled": false
   },
   "outputs": [
    {
     "data": {
      "text/html": [
       "<div>\n",
       "<style scoped>\n",
       "    .dataframe tbody tr th:only-of-type {\n",
       "        vertical-align: middle;\n",
       "    }\n",
       "\n",
       "    .dataframe tbody tr th {\n",
       "        vertical-align: top;\n",
       "    }\n",
       "\n",
       "    .dataframe thead th {\n",
       "        text-align: right;\n",
       "    }\n",
       "</style>\n",
       "<table border=\"1\" class=\"dataframe\">\n",
       "  <thead>\n",
       "    <tr style=\"text-align: right;\">\n",
       "      <th></th>\n",
       "      <th>Variable</th>\n",
       "      <th>Missing Values</th>\n",
       "      <th>filling factor (%)</th>\n",
       "    </tr>\n",
       "  </thead>\n",
       "  <tbody>\n",
       "    <tr>\n",
       "      <th>0</th>\n",
       "      <td>BuildingArea</td>\n",
       "      <td>2162</td>\n",
       "      <td>56.76</td>\n",
       "    </tr>\n",
       "    <tr>\n",
       "      <th>1</th>\n",
       "      <td>YearBuilt</td>\n",
       "      <td>1776</td>\n",
       "      <td>64.48</td>\n",
       "    </tr>\n",
       "    <tr>\n",
       "      <th>2</th>\n",
       "      <td>Suburb</td>\n",
       "      <td>0</td>\n",
       "      <td>100.00</td>\n",
       "    </tr>\n",
       "    <tr>\n",
       "      <th>3</th>\n",
       "      <td>Longtitude</td>\n",
       "      <td>0</td>\n",
       "      <td>100.00</td>\n",
       "    </tr>\n",
       "    <tr>\n",
       "      <th>4</th>\n",
       "      <td>Lattitude</td>\n",
       "      <td>0</td>\n",
       "      <td>100.00</td>\n",
       "    </tr>\n",
       "    <tr>\n",
       "      <th>5</th>\n",
       "      <td>CouncilArea</td>\n",
       "      <td>0</td>\n",
       "      <td>100.00</td>\n",
       "    </tr>\n",
       "    <tr>\n",
       "      <th>6</th>\n",
       "      <td>Landsize</td>\n",
       "      <td>0</td>\n",
       "      <td>100.00</td>\n",
       "    </tr>\n",
       "    <tr>\n",
       "      <th>7</th>\n",
       "      <td>Car</td>\n",
       "      <td>0</td>\n",
       "      <td>100.00</td>\n",
       "    </tr>\n",
       "    <tr>\n",
       "      <th>8</th>\n",
       "      <td>Bathroom</td>\n",
       "      <td>0</td>\n",
       "      <td>100.00</td>\n",
       "    </tr>\n",
       "    <tr>\n",
       "      <th>9</th>\n",
       "      <td>Regionname</td>\n",
       "      <td>0</td>\n",
       "      <td>100.00</td>\n",
       "    </tr>\n",
       "    <tr>\n",
       "      <th>10</th>\n",
       "      <td>Bedroom2</td>\n",
       "      <td>0</td>\n",
       "      <td>100.00</td>\n",
       "    </tr>\n",
       "    <tr>\n",
       "      <th>11</th>\n",
       "      <td>Distance</td>\n",
       "      <td>0</td>\n",
       "      <td>100.00</td>\n",
       "    </tr>\n",
       "    <tr>\n",
       "      <th>12</th>\n",
       "      <td>Date</td>\n",
       "      <td>0</td>\n",
       "      <td>100.00</td>\n",
       "    </tr>\n",
       "    <tr>\n",
       "      <th>13</th>\n",
       "      <td>SellerG</td>\n",
       "      <td>0</td>\n",
       "      <td>100.00</td>\n",
       "    </tr>\n",
       "    <tr>\n",
       "      <th>14</th>\n",
       "      <td>Method</td>\n",
       "      <td>0</td>\n",
       "      <td>100.00</td>\n",
       "    </tr>\n",
       "    <tr>\n",
       "      <th>15</th>\n",
       "      <td>Price</td>\n",
       "      <td>0</td>\n",
       "      <td>100.00</td>\n",
       "    </tr>\n",
       "    <tr>\n",
       "      <th>16</th>\n",
       "      <td>Type</td>\n",
       "      <td>0</td>\n",
       "      <td>100.00</td>\n",
       "    </tr>\n",
       "    <tr>\n",
       "      <th>17</th>\n",
       "      <td>Rooms</td>\n",
       "      <td>0</td>\n",
       "      <td>100.00</td>\n",
       "    </tr>\n",
       "    <tr>\n",
       "      <th>18</th>\n",
       "      <td>Address</td>\n",
       "      <td>0</td>\n",
       "      <td>100.00</td>\n",
       "    </tr>\n",
       "    <tr>\n",
       "      <th>19</th>\n",
       "      <td>Postcode</td>\n",
       "      <td>0</td>\n",
       "      <td>100.00</td>\n",
       "    </tr>\n",
       "    <tr>\n",
       "      <th>20</th>\n",
       "      <td>Propertycount</td>\n",
       "      <td>0</td>\n",
       "      <td>100.00</td>\n",
       "    </tr>\n",
       "  </tbody>\n",
       "</table>\n",
       "</div>"
      ],
      "text/plain": [
       "         Variable  Missing Values  filling factor (%)\n",
       "0    BuildingArea            2162               56.76\n",
       "1       YearBuilt            1776               64.48\n",
       "2          Suburb               0              100.00\n",
       "3      Longtitude               0              100.00\n",
       "4       Lattitude               0              100.00\n",
       "5     CouncilArea               0              100.00\n",
       "6        Landsize               0              100.00\n",
       "7             Car               0              100.00\n",
       "8        Bathroom               0              100.00\n",
       "9      Regionname               0              100.00\n",
       "10       Bedroom2               0              100.00\n",
       "11       Distance               0              100.00\n",
       "12           Date               0              100.00\n",
       "13        SellerG               0              100.00\n",
       "14         Method               0              100.00\n",
       "15          Price               0              100.00\n",
       "16           Type               0              100.00\n",
       "17          Rooms               0              100.00\n",
       "18        Address               0              100.00\n",
       "19       Postcode               0              100.00\n",
       "20  Propertycount               0              100.00"
      ]
     },
     "execution_count": 10,
     "metadata": {},
     "output_type": "execute_result"
    }
   ],
   "source": [
    "# Checking null value\n",
    "missing_df = df.isnull().sum(axis=0).reset_index()\n",
    "missing_df.columns = ['Variable', 'Missing Values']\n",
    "missing_df['filling factor (%)']=(df.shape[0]-missing_df['Missing Values'])/df.shape[0]*100\n",
    "missing_df.sort_values('filling factor (%)').reset_index(drop = True)"
   ]
  },
  {
   "cell_type": "markdown",
   "metadata": {},
   "source": [
    "**Interpretation of above information:**\n",
    "\n",
    "Setelah memilih 5000 data awal [0:5000], data di atas dapat dijelaskan dengan penjelasan sebagai berikut:\n",
    "\n",
    "1. Terdapatnya 21 Variable\n",
    "2. Terdapatnya 8 Variable categorical [Suburb, Address, Type, Method, SellerG, Date, CouncilArea, Regionname]\n",
    "3. Terdapatnya 1 Variable integer [Rooms]\n",
    "4. Terdapatnya 12 Variable float\n",
    "5. BuildingArea memiliki 56% NaN value\n",
    "6. YearBuilt memiliki 64% NaN value"
   ]
  },
  {
   "cell_type": "markdown",
   "metadata": {},
   "source": [
    "**Problem dari ini**\n",
    "\n",
    "Melihat adanya missing value yang signifikan pada dua variable yang memungkinkan untuk memberikan signifikansi atau importance dalam prediksi harga, hal ini akan memberikan data imbalance dan membuat model menjadi tidak valid."
   ]
  },
  {
   "cell_type": "markdown",
   "metadata": {},
   "source": [
    "**Solution dari problem sebelumnya**\n",
    "\n",
    "Ada dua solusi awal dan sederhana yang bisa digunakan untuk mengatasi masalah di atas. Yaitu:\n",
    "\n",
    "1. Sebelum memilih 5000 data awal, hilangkan sortir terlebih dahulu NaN value.\n",
    "2. Drop kedua variable tersebut\n",
    "\n",
    "Dalam hal ini, saya memilih pilihan satu."
   ]
  },
  {
   "cell_type": "code",
   "execution_count": 11,
   "metadata": {},
   "outputs": [],
   "source": [
    "df2 = df_copy.copy()"
   ]
  },
  {
   "cell_type": "code",
   "execution_count": 12,
   "metadata": {},
   "outputs": [],
   "source": [
    "df2 = df_copy.dropna()"
   ]
  },
  {
   "cell_type": "code",
   "execution_count": 13,
   "metadata": {
    "scrolled": false
   },
   "outputs": [
    {
     "name": "stdout",
     "output_type": "stream",
     "text": [
      "<class 'pandas.core.frame.DataFrame'>\n",
      "Int64Index: 6196 entries, 1 to 12212\n",
      "Data columns (total 21 columns):\n",
      " #   Column         Non-Null Count  Dtype  \n",
      "---  ------         --------------  -----  \n",
      " 0   Suburb         6196 non-null   object \n",
      " 1   Address        6196 non-null   object \n",
      " 2   Rooms          6196 non-null   int64  \n",
      " 3   Type           6196 non-null   object \n",
      " 4   Price          6196 non-null   float64\n",
      " 5   Method         6196 non-null   object \n",
      " 6   SellerG        6196 non-null   object \n",
      " 7   Date           6196 non-null   object \n",
      " 8   Distance       6196 non-null   float64\n",
      " 9   Postcode       6196 non-null   float64\n",
      " 10  Bedroom2       6196 non-null   float64\n",
      " 11  Bathroom       6196 non-null   float64\n",
      " 12  Car            6196 non-null   float64\n",
      " 13  Landsize       6196 non-null   float64\n",
      " 14  BuildingArea   6196 non-null   float64\n",
      " 15  YearBuilt      6196 non-null   float64\n",
      " 16  CouncilArea    6196 non-null   object \n",
      " 17  Lattitude      6196 non-null   float64\n",
      " 18  Longtitude     6196 non-null   float64\n",
      " 19  Regionname     6196 non-null   object \n",
      " 20  Propertycount  6196 non-null   float64\n",
      "dtypes: float64(12), int64(1), object(8)\n",
      "memory usage: 1.0+ MB\n"
     ]
    }
   ],
   "source": [
    "df2.info()"
   ]
  },
  {
   "cell_type": "code",
   "execution_count": 14,
   "metadata": {
    "scrolled": false
   },
   "outputs": [
    {
     "data": {
      "text/html": [
       "<div>\n",
       "<style scoped>\n",
       "    .dataframe tbody tr th:only-of-type {\n",
       "        vertical-align: middle;\n",
       "    }\n",
       "\n",
       "    .dataframe tbody tr th {\n",
       "        vertical-align: top;\n",
       "    }\n",
       "\n",
       "    .dataframe thead th {\n",
       "        text-align: right;\n",
       "    }\n",
       "</style>\n",
       "<table border=\"1\" class=\"dataframe\">\n",
       "  <thead>\n",
       "    <tr style=\"text-align: right;\">\n",
       "      <th></th>\n",
       "      <th>1</th>\n",
       "      <th>2</th>\n",
       "      <th>4</th>\n",
       "      <th>6</th>\n",
       "      <th>7</th>\n",
       "    </tr>\n",
       "  </thead>\n",
       "  <tbody>\n",
       "    <tr>\n",
       "      <th>Suburb</th>\n",
       "      <td>Abbotsford</td>\n",
       "      <td>Abbotsford</td>\n",
       "      <td>Abbotsford</td>\n",
       "      <td>Abbotsford</td>\n",
       "      <td>Abbotsford</td>\n",
       "    </tr>\n",
       "    <tr>\n",
       "      <th>Address</th>\n",
       "      <td>25 Bloomburg St</td>\n",
       "      <td>5 Charles St</td>\n",
       "      <td>55a Park St</td>\n",
       "      <td>124 Yarra St</td>\n",
       "      <td>98 Charles St</td>\n",
       "    </tr>\n",
       "    <tr>\n",
       "      <th>Rooms</th>\n",
       "      <td>2</td>\n",
       "      <td>3</td>\n",
       "      <td>4</td>\n",
       "      <td>3</td>\n",
       "      <td>2</td>\n",
       "    </tr>\n",
       "    <tr>\n",
       "      <th>Type</th>\n",
       "      <td>h</td>\n",
       "      <td>h</td>\n",
       "      <td>h</td>\n",
       "      <td>h</td>\n",
       "      <td>h</td>\n",
       "    </tr>\n",
       "    <tr>\n",
       "      <th>Price</th>\n",
       "      <td>1.035e+06</td>\n",
       "      <td>1.465e+06</td>\n",
       "      <td>1.6e+06</td>\n",
       "      <td>1.876e+06</td>\n",
       "      <td>1.636e+06</td>\n",
       "    </tr>\n",
       "    <tr>\n",
       "      <th>Method</th>\n",
       "      <td>S</td>\n",
       "      <td>SP</td>\n",
       "      <td>VB</td>\n",
       "      <td>S</td>\n",
       "      <td>S</td>\n",
       "    </tr>\n",
       "    <tr>\n",
       "      <th>SellerG</th>\n",
       "      <td>Biggin</td>\n",
       "      <td>Biggin</td>\n",
       "      <td>Nelson</td>\n",
       "      <td>Nelson</td>\n",
       "      <td>Nelson</td>\n",
       "    </tr>\n",
       "    <tr>\n",
       "      <th>Date</th>\n",
       "      <td>4/02/2016</td>\n",
       "      <td>4/03/2017</td>\n",
       "      <td>4/06/2016</td>\n",
       "      <td>7/05/2016</td>\n",
       "      <td>8/10/2016</td>\n",
       "    </tr>\n",
       "    <tr>\n",
       "      <th>Distance</th>\n",
       "      <td>2.5</td>\n",
       "      <td>2.5</td>\n",
       "      <td>2.5</td>\n",
       "      <td>2.5</td>\n",
       "      <td>2.5</td>\n",
       "    </tr>\n",
       "    <tr>\n",
       "      <th>Postcode</th>\n",
       "      <td>3067</td>\n",
       "      <td>3067</td>\n",
       "      <td>3067</td>\n",
       "      <td>3067</td>\n",
       "      <td>3067</td>\n",
       "    </tr>\n",
       "    <tr>\n",
       "      <th>Bedroom2</th>\n",
       "      <td>2</td>\n",
       "      <td>3</td>\n",
       "      <td>3</td>\n",
       "      <td>4</td>\n",
       "      <td>2</td>\n",
       "    </tr>\n",
       "    <tr>\n",
       "      <th>Bathroom</th>\n",
       "      <td>1</td>\n",
       "      <td>2</td>\n",
       "      <td>1</td>\n",
       "      <td>2</td>\n",
       "      <td>1</td>\n",
       "    </tr>\n",
       "    <tr>\n",
       "      <th>Car</th>\n",
       "      <td>0</td>\n",
       "      <td>0</td>\n",
       "      <td>2</td>\n",
       "      <td>0</td>\n",
       "      <td>2</td>\n",
       "    </tr>\n",
       "    <tr>\n",
       "      <th>Landsize</th>\n",
       "      <td>156</td>\n",
       "      <td>134</td>\n",
       "      <td>120</td>\n",
       "      <td>245</td>\n",
       "      <td>256</td>\n",
       "    </tr>\n",
       "    <tr>\n",
       "      <th>BuildingArea</th>\n",
       "      <td>79</td>\n",
       "      <td>150</td>\n",
       "      <td>142</td>\n",
       "      <td>210</td>\n",
       "      <td>107</td>\n",
       "    </tr>\n",
       "    <tr>\n",
       "      <th>YearBuilt</th>\n",
       "      <td>1900</td>\n",
       "      <td>1900</td>\n",
       "      <td>2014</td>\n",
       "      <td>1910</td>\n",
       "      <td>1890</td>\n",
       "    </tr>\n",
       "    <tr>\n",
       "      <th>CouncilArea</th>\n",
       "      <td>Yarra</td>\n",
       "      <td>Yarra</td>\n",
       "      <td>Yarra</td>\n",
       "      <td>Yarra</td>\n",
       "      <td>Yarra</td>\n",
       "    </tr>\n",
       "    <tr>\n",
       "      <th>Lattitude</th>\n",
       "      <td>-37.8079</td>\n",
       "      <td>-37.8093</td>\n",
       "      <td>-37.8072</td>\n",
       "      <td>-37.8024</td>\n",
       "      <td>-37.806</td>\n",
       "    </tr>\n",
       "    <tr>\n",
       "      <th>Longtitude</th>\n",
       "      <td>144.993</td>\n",
       "      <td>144.994</td>\n",
       "      <td>144.994</td>\n",
       "      <td>144.999</td>\n",
       "      <td>144.995</td>\n",
       "    </tr>\n",
       "    <tr>\n",
       "      <th>Regionname</th>\n",
       "      <td>Northern Metropolitan</td>\n",
       "      <td>Northern Metropolitan</td>\n",
       "      <td>Northern Metropolitan</td>\n",
       "      <td>Northern Metropolitan</td>\n",
       "      <td>Northern Metropolitan</td>\n",
       "    </tr>\n",
       "    <tr>\n",
       "      <th>Propertycount</th>\n",
       "      <td>4019</td>\n",
       "      <td>4019</td>\n",
       "      <td>4019</td>\n",
       "      <td>4019</td>\n",
       "      <td>4019</td>\n",
       "    </tr>\n",
       "  </tbody>\n",
       "</table>\n",
       "</div>"
      ],
      "text/plain": [
       "                                   1                      2  \\\n",
       "Suburb                    Abbotsford             Abbotsford   \n",
       "Address              25 Bloomburg St           5 Charles St   \n",
       "Rooms                              2                      3   \n",
       "Type                               h                      h   \n",
       "Price                      1.035e+06              1.465e+06   \n",
       "Method                             S                     SP   \n",
       "SellerG                       Biggin                 Biggin   \n",
       "Date                       4/02/2016              4/03/2017   \n",
       "Distance                         2.5                    2.5   \n",
       "Postcode                        3067                   3067   \n",
       "Bedroom2                           2                      3   \n",
       "Bathroom                           1                      2   \n",
       "Car                                0                      0   \n",
       "Landsize                         156                    134   \n",
       "BuildingArea                      79                    150   \n",
       "YearBuilt                       1900                   1900   \n",
       "CouncilArea                    Yarra                  Yarra   \n",
       "Lattitude                   -37.8079               -37.8093   \n",
       "Longtitude                   144.993                144.994   \n",
       "Regionname     Northern Metropolitan  Northern Metropolitan   \n",
       "Propertycount                   4019                   4019   \n",
       "\n",
       "                                   4                      6  \\\n",
       "Suburb                    Abbotsford             Abbotsford   \n",
       "Address                  55a Park St           124 Yarra St   \n",
       "Rooms                              4                      3   \n",
       "Type                               h                      h   \n",
       "Price                        1.6e+06              1.876e+06   \n",
       "Method                            VB                      S   \n",
       "SellerG                       Nelson                 Nelson   \n",
       "Date                       4/06/2016              7/05/2016   \n",
       "Distance                         2.5                    2.5   \n",
       "Postcode                        3067                   3067   \n",
       "Bedroom2                           3                      4   \n",
       "Bathroom                           1                      2   \n",
       "Car                                2                      0   \n",
       "Landsize                         120                    245   \n",
       "BuildingArea                     142                    210   \n",
       "YearBuilt                       2014                   1910   \n",
       "CouncilArea                    Yarra                  Yarra   \n",
       "Lattitude                   -37.8072               -37.8024   \n",
       "Longtitude                   144.994                144.999   \n",
       "Regionname     Northern Metropolitan  Northern Metropolitan   \n",
       "Propertycount                   4019                   4019   \n",
       "\n",
       "                                   7  \n",
       "Suburb                    Abbotsford  \n",
       "Address                98 Charles St  \n",
       "Rooms                              2  \n",
       "Type                               h  \n",
       "Price                      1.636e+06  \n",
       "Method                             S  \n",
       "SellerG                       Nelson  \n",
       "Date                       8/10/2016  \n",
       "Distance                         2.5  \n",
       "Postcode                        3067  \n",
       "Bedroom2                           2  \n",
       "Bathroom                           1  \n",
       "Car                                2  \n",
       "Landsize                         256  \n",
       "BuildingArea                     107  \n",
       "YearBuilt                       1890  \n",
       "CouncilArea                    Yarra  \n",
       "Lattitude                    -37.806  \n",
       "Longtitude                   144.995  \n",
       "Regionname     Northern Metropolitan  \n",
       "Propertycount                   4019  "
      ]
     },
     "execution_count": 14,
     "metadata": {},
     "output_type": "execute_result"
    }
   ],
   "source": [
    "df2.head().T"
   ]
  },
  {
   "cell_type": "code",
   "execution_count": 15,
   "metadata": {},
   "outputs": [],
   "source": [
    "df2 = df2[:5000]"
   ]
  },
  {
   "cell_type": "code",
   "execution_count": 16,
   "metadata": {
    "scrolled": false
   },
   "outputs": [
    {
     "data": {
      "text/html": [
       "<div>\n",
       "<style scoped>\n",
       "    .dataframe tbody tr th:only-of-type {\n",
       "        vertical-align: middle;\n",
       "    }\n",
       "\n",
       "    .dataframe tbody tr th {\n",
       "        vertical-align: top;\n",
       "    }\n",
       "\n",
       "    .dataframe thead th {\n",
       "        text-align: right;\n",
       "    }\n",
       "</style>\n",
       "<table border=\"1\" class=\"dataframe\">\n",
       "  <thead>\n",
       "    <tr style=\"text-align: right;\">\n",
       "      <th></th>\n",
       "      <th>Variable</th>\n",
       "      <th>Missing Values</th>\n",
       "      <th>filling factor (%)</th>\n",
       "    </tr>\n",
       "  </thead>\n",
       "  <tbody>\n",
       "    <tr>\n",
       "      <th>0</th>\n",
       "      <td>Suburb</td>\n",
       "      <td>0</td>\n",
       "      <td>100.0</td>\n",
       "    </tr>\n",
       "    <tr>\n",
       "      <th>1</th>\n",
       "      <td>Longtitude</td>\n",
       "      <td>0</td>\n",
       "      <td>100.0</td>\n",
       "    </tr>\n",
       "    <tr>\n",
       "      <th>2</th>\n",
       "      <td>Lattitude</td>\n",
       "      <td>0</td>\n",
       "      <td>100.0</td>\n",
       "    </tr>\n",
       "    <tr>\n",
       "      <th>3</th>\n",
       "      <td>CouncilArea</td>\n",
       "      <td>0</td>\n",
       "      <td>100.0</td>\n",
       "    </tr>\n",
       "    <tr>\n",
       "      <th>4</th>\n",
       "      <td>YearBuilt</td>\n",
       "      <td>0</td>\n",
       "      <td>100.0</td>\n",
       "    </tr>\n",
       "    <tr>\n",
       "      <th>5</th>\n",
       "      <td>BuildingArea</td>\n",
       "      <td>0</td>\n",
       "      <td>100.0</td>\n",
       "    </tr>\n",
       "    <tr>\n",
       "      <th>6</th>\n",
       "      <td>Landsize</td>\n",
       "      <td>0</td>\n",
       "      <td>100.0</td>\n",
       "    </tr>\n",
       "    <tr>\n",
       "      <th>7</th>\n",
       "      <td>Car</td>\n",
       "      <td>0</td>\n",
       "      <td>100.0</td>\n",
       "    </tr>\n",
       "    <tr>\n",
       "      <th>8</th>\n",
       "      <td>Bathroom</td>\n",
       "      <td>0</td>\n",
       "      <td>100.0</td>\n",
       "    </tr>\n",
       "    <tr>\n",
       "      <th>9</th>\n",
       "      <td>Regionname</td>\n",
       "      <td>0</td>\n",
       "      <td>100.0</td>\n",
       "    </tr>\n",
       "    <tr>\n",
       "      <th>10</th>\n",
       "      <td>Bedroom2</td>\n",
       "      <td>0</td>\n",
       "      <td>100.0</td>\n",
       "    </tr>\n",
       "    <tr>\n",
       "      <th>11</th>\n",
       "      <td>Distance</td>\n",
       "      <td>0</td>\n",
       "      <td>100.0</td>\n",
       "    </tr>\n",
       "    <tr>\n",
       "      <th>12</th>\n",
       "      <td>Date</td>\n",
       "      <td>0</td>\n",
       "      <td>100.0</td>\n",
       "    </tr>\n",
       "    <tr>\n",
       "      <th>13</th>\n",
       "      <td>SellerG</td>\n",
       "      <td>0</td>\n",
       "      <td>100.0</td>\n",
       "    </tr>\n",
       "    <tr>\n",
       "      <th>14</th>\n",
       "      <td>Method</td>\n",
       "      <td>0</td>\n",
       "      <td>100.0</td>\n",
       "    </tr>\n",
       "    <tr>\n",
       "      <th>15</th>\n",
       "      <td>Price</td>\n",
       "      <td>0</td>\n",
       "      <td>100.0</td>\n",
       "    </tr>\n",
       "    <tr>\n",
       "      <th>16</th>\n",
       "      <td>Type</td>\n",
       "      <td>0</td>\n",
       "      <td>100.0</td>\n",
       "    </tr>\n",
       "    <tr>\n",
       "      <th>17</th>\n",
       "      <td>Rooms</td>\n",
       "      <td>0</td>\n",
       "      <td>100.0</td>\n",
       "    </tr>\n",
       "    <tr>\n",
       "      <th>18</th>\n",
       "      <td>Address</td>\n",
       "      <td>0</td>\n",
       "      <td>100.0</td>\n",
       "    </tr>\n",
       "    <tr>\n",
       "      <th>19</th>\n",
       "      <td>Postcode</td>\n",
       "      <td>0</td>\n",
       "      <td>100.0</td>\n",
       "    </tr>\n",
       "    <tr>\n",
       "      <th>20</th>\n",
       "      <td>Propertycount</td>\n",
       "      <td>0</td>\n",
       "      <td>100.0</td>\n",
       "    </tr>\n",
       "  </tbody>\n",
       "</table>\n",
       "</div>"
      ],
      "text/plain": [
       "         Variable  Missing Values  filling factor (%)\n",
       "0          Suburb               0               100.0\n",
       "1      Longtitude               0               100.0\n",
       "2       Lattitude               0               100.0\n",
       "3     CouncilArea               0               100.0\n",
       "4       YearBuilt               0               100.0\n",
       "5    BuildingArea               0               100.0\n",
       "6        Landsize               0               100.0\n",
       "7             Car               0               100.0\n",
       "8        Bathroom               0               100.0\n",
       "9      Regionname               0               100.0\n",
       "10       Bedroom2               0               100.0\n",
       "11       Distance               0               100.0\n",
       "12           Date               0               100.0\n",
       "13        SellerG               0               100.0\n",
       "14         Method               0               100.0\n",
       "15          Price               0               100.0\n",
       "16           Type               0               100.0\n",
       "17          Rooms               0               100.0\n",
       "18        Address               0               100.0\n",
       "19       Postcode               0               100.0\n",
       "20  Propertycount               0               100.0"
      ]
     },
     "execution_count": 16,
     "metadata": {},
     "output_type": "execute_result"
    }
   ],
   "source": [
    "# Checking null value\n",
    "missing_df2 = df2.isnull().sum(axis=0).reset_index()\n",
    "missing_df2.columns = ['Variable', 'Missing Values']\n",
    "missing_df2['filling factor (%)']=(df2.shape[0]-missing_df2['Missing Values'])/df2.shape[0]*100\n",
    "missing_df2.sort_values('filling factor (%)').reset_index(drop = True)"
   ]
  },
  {
   "cell_type": "code",
   "execution_count": 17,
   "metadata": {
    "scrolled": true
   },
   "outputs": [
    {
     "data": {
      "text/plain": [
       "(5000, 21)"
      ]
     },
     "execution_count": 17,
     "metadata": {},
     "output_type": "execute_result"
    }
   ],
   "source": [
    "df2.shape"
   ]
  },
  {
   "cell_type": "markdown",
   "metadata": {
    "scrolled": false
   },
   "source": [
    "**Interpretation of above information:**\n",
    "\n",
    "Setelah memilih 5000 data awal [0:5000], data di atas dapat dijelaskan dengan penjelasan sebagai berikut:\n",
    "\n",
    "1. Sudah terpilihnya 5000 data\n",
    "2. Tidak adanya Nan Value\n",
    "\n",
    "**2. Handling NaN values from dataset = PASS**"
   ]
  },
  {
   "cell_type": "markdown",
   "metadata": {},
   "source": [
    "#### Data Transformation"
   ]
  },
  {
   "cell_type": "markdown",
   "metadata": {},
   "source": [
    "Dari Informasi data sebelumnya, variable \"Price\" harus dirubah menjadi Integer. Hal ini karena harga rumah tinggi, sehingga nilai cent tidak terasa penting dan perlu adanya perubahan pada tipe data variable \"Price\"."
   ]
  },
  {
   "cell_type": "code",
   "execution_count": 18,
   "metadata": {},
   "outputs": [],
   "source": [
    "df2.Price = df2.Price.astype(np.int64)"
   ]
  },
  {
   "cell_type": "code",
   "execution_count": 19,
   "metadata": {},
   "outputs": [
    {
     "name": "stdout",
     "output_type": "stream",
     "text": [
      "<class 'pandas.core.frame.DataFrame'>\n",
      "Int64Index: 5000 entries, 1 to 9670\n",
      "Data columns (total 21 columns):\n",
      " #   Column         Non-Null Count  Dtype  \n",
      "---  ------         --------------  -----  \n",
      " 0   Suburb         5000 non-null   object \n",
      " 1   Address        5000 non-null   object \n",
      " 2   Rooms          5000 non-null   int64  \n",
      " 3   Type           5000 non-null   object \n",
      " 4   Price          5000 non-null   int64  \n",
      " 5   Method         5000 non-null   object \n",
      " 6   SellerG        5000 non-null   object \n",
      " 7   Date           5000 non-null   object \n",
      " 8   Distance       5000 non-null   float64\n",
      " 9   Postcode       5000 non-null   float64\n",
      " 10  Bedroom2       5000 non-null   float64\n",
      " 11  Bathroom       5000 non-null   float64\n",
      " 12  Car            5000 non-null   float64\n",
      " 13  Landsize       5000 non-null   float64\n",
      " 14  BuildingArea   5000 non-null   float64\n",
      " 15  YearBuilt      5000 non-null   float64\n",
      " 16  CouncilArea    5000 non-null   object \n",
      " 17  Lattitude      5000 non-null   float64\n",
      " 18  Longtitude     5000 non-null   float64\n",
      " 19  Regionname     5000 non-null   object \n",
      " 20  Propertycount  5000 non-null   float64\n",
      "dtypes: float64(11), int64(2), object(8)\n",
      "memory usage: 859.4+ KB\n"
     ]
    }
   ],
   "source": [
    "df2.info()"
   ]
  },
  {
   "cell_type": "markdown",
   "metadata": {},
   "source": [
    "**Interpretation of above information:**\n",
    "\n",
    "Kita dapat menyimpulkan dalam data cleaning sebagai berikut:\n",
    "\n",
    "**3. DATA TRANSFORMATION OF PRICE = PASS**"
   ]
  },
  {
   "cell_type": "markdown",
   "metadata": {},
   "source": [
    "**Problem**\n",
    "\n",
    "Sebelum melanjutkan EDA, kita ingin melihat apakah data yang terpilih dalam dataset memiliki outlier yang dapat mengganggu model prediksi kita."
   ]
  },
  {
   "cell_type": "code",
   "execution_count": 20,
   "metadata": {},
   "outputs": [],
   "source": [
    "#Selecting columns to plot\n",
    "columns_plot = df[['Rooms', 'Price', 'Distance', 'Postcode', 'Bedroom2', \n",
    "                   'Bathroom', 'Car', 'Landsize', 'BuildingArea', 'YearBuilt', 'CouncilArea', 'Propertycount']]"
   ]
  },
  {
   "cell_type": "code",
   "execution_count": 21,
   "metadata": {},
   "outputs": [
    {
     "data": {
      "text/plain": [
       "Index(['Suburb', 'Address', 'Rooms', 'Type', 'Price', 'Method', 'SellerG',\n",
       "       'Date', 'Distance', 'Postcode', 'Bedroom2', 'Bathroom', 'Car',\n",
       "       'Landsize', 'BuildingArea', 'YearBuilt', 'CouncilArea', 'Lattitude',\n",
       "       'Longtitude', 'Regionname', 'Propertycount'],\n",
       "      dtype='object')"
      ]
     },
     "execution_count": 21,
     "metadata": {},
     "output_type": "execute_result"
    }
   ],
   "source": [
    "df2.columns"
   ]
  },
  {
   "cell_type": "code",
   "execution_count": 22,
   "metadata": {
    "scrolled": false
   },
   "outputs": [
    {
     "name": "stdout",
     "output_type": "stream",
     "text": [
      "Graph for Rooms: Total = 8\n"
     ]
    },
    {
     "data": {
      "image/png": "[encoded data removed]",
      "text/plain": [
       "<Figure size 432x288 with 1 Axes>"
      ]
     },
     "metadata": {
      "needs_background": "light"
     },
     "output_type": "display_data"
    },
    {
     "name": "stdout",
     "output_type": "stream",
     "text": [
      "Graph for Price: Total = 1400\n"
     ]
    },
    {
     "data": {
      "image/png": "[encoded data removed]",
      "text/plain": [
       "<Figure size 432x288 with 1 Axes>"
      ]
     },
     "metadata": {
      "needs_background": "light"
     },
     "output_type": "display_data"
    },
    {
     "name": "stdout",
     "output_type": "stream",
     "text": [
      "Graph for Distance: Total = 68\n"
     ]
    },
    {
     "data": {
      "image/png": "[encoded data removed]",
      "text/plain": [
       "<Figure size 432x288 with 1 Axes>"
      ]
     },
     "metadata": {
      "needs_background": "light"
     },
     "output_type": "display_data"
    },
    {
     "name": "stdout",
     "output_type": "stream",
     "text": [
      "Graph for Postcode: Total = 70\n"
     ]
    },
    {
     "data": {
      "image/png": "[encoded data removed]",
      "text/plain": [
       "<Figure size 432x288 with 1 Axes>"
      ]
     },
     "metadata": {
      "needs_background": "light"
     },
     "output_type": "display_data"
    },
    {
     "name": "stdout",
     "output_type": "stream",
     "text": [
      "Graph for Bedroom2: Total = 10\n"
     ]
    },
    {
     "data": {
      "image/png": "[encoded data removed]",
      "text/plain": [
       "<Figure size 432x288 with 1 Axes>"
      ]
     },
     "metadata": {
      "needs_background": "light"
     },
     "output_type": "display_data"
    },
    {
     "name": "stdout",
     "output_type": "stream",
     "text": [
      "Graph for Bathroom: Total = 9\n"
     ]
    },
    {
     "data": {
      "image/png": "[encoded data removed]",
      "text/plain": [
       "<Figure size 432x288 with 1 Axes>"
      ]
     },
     "metadata": {
      "needs_background": "light"
     },
     "output_type": "display_data"
    },
    {
     "name": "stdout",
     "output_type": "stream",
     "text": [
      "Graph for Car: Total = 9\n"
     ]
    },
    {
     "data": {
      "image/png": "[encoded data removed]",
      "text/plain": [
       "<Figure size 432x288 with 1 Axes>"
      ]
     },
     "metadata": {
      "needs_background": "light"
     },
     "output_type": "display_data"
    },
    {
     "name": "stdout",
     "output_type": "stream",
     "text": [
      "Graph for Landsize: Total = 1029\n"
     ]
    },
    {
     "data": {
      "image/png": "[encoded data removed]",
      "text/plain": [
       "<Figure size 432x288 with 1 Axes>"
      ]
     },
     "metadata": {
      "needs_background": "light"
     },
     "output_type": "display_data"
    },
    {
     "name": "stdout",
     "output_type": "stream",
     "text": [
      "Graph for Buildingarea: Total = 387\n"
     ]
    },
    {
     "data": {
      "image/png": "[encoded data removed]",
      "text/plain": [
       "<Figure size 432x288 with 1 Axes>"
      ]
     },
     "metadata": {
      "needs_background": "light"
     },
     "output_type": "display_data"
    },
    {
     "name": "stdout",
     "output_type": "stream",
     "text": [
      "Graph for Yearbuilt: Total = 125\n"
     ]
    },
    {
     "data": {
      "image/png": "[encoded data removed]",
      "text/plain": [
       "<Figure size 432x288 with 1 Axes>"
      ]
     },
     "metadata": {
      "needs_background": "light"
     },
     "output_type": "display_data"
    },
    {
     "name": "stdout",
     "output_type": "stream",
     "text": [
      "Graph for Councilarea: Total = 18\n"
     ]
    },
    {
     "data": {
      "image/png": "[encoded data removed]",
      "text/plain": [
       "<Figure size 432x288 with 1 Axes>"
      ]
     },
     "metadata": {
      "needs_background": "light"
     },
     "output_type": "display_data"
    },
    {
     "name": "stdout",
     "output_type": "stream",
     "text": [
      "Graph for Propertycount: Total = 84\n"
     ]
    },
    {
     "data": {
      "image/png": "[encoded data removed]",
      "text/plain": [
       "<Figure size 432x288 with 1 Axes>"
      ]
     },
     "metadata": {
      "needs_background": "light"
     },
     "output_type": "display_data"
    }
   ],
   "source": [
    "def plot_scatterplots():\n",
    "    for i in columns_plot.columns:\n",
    "        cat_num = columns_plot[i].value_counts()\n",
    "        print('Graph for {}: Total = {}'.format(i.capitalize(), len(cat_num)))\n",
    "        sns.scatterplot(x=cat_num.index, y=cat_num)\n",
    "        plt.xticks(rotation=90)\n",
    "        plt.show()\n",
    "        \n",
    "plot_scatterplots()   "
   ]
  },
  {
   "cell_type": "markdown",
   "metadata": {},
   "source": [
    "**Interpretation of above information:**\n",
    "\n",
    "Kita dapat menganalisa lebih lanjut dalam visualisasi outlier sebagai berikut:\n",
    "    \n",
    "1. Price - Is it safe to remove house price above 6 million?\n",
    "2. Landsize - Is it safe to remove house that has over 10.000?\n",
    "3. Buildingrea - Is it safe to remove house that is over 3000?"
   ]
  },
  {
   "cell_type": "code",
   "execution_count": 23,
   "metadata": {},
   "outputs": [
    {
     "data": {
      "text/plain": [
       "(4, 21)"
      ]
     },
     "execution_count": 23,
     "metadata": {},
     "output_type": "execute_result"
    }
   ],
   "source": [
    "df2.loc[df2.Price > 6000000].shape"
   ]
  },
  {
   "cell_type": "code",
   "execution_count": 24,
   "metadata": {},
   "outputs": [
    {
     "data": {
      "text/plain": [
       "(4, 21)"
      ]
     },
     "execution_count": 24,
     "metadata": {},
     "output_type": "execute_result"
    }
   ],
   "source": [
    "df2.loc[df2.Landsize > 10000].shape"
   ]
  },
  {
   "cell_type": "code",
   "execution_count": 25,
   "metadata": {},
   "outputs": [
    {
     "data": {
      "text/plain": [
       "(1, 21)"
      ]
     },
     "execution_count": 25,
     "metadata": {},
     "output_type": "execute_result"
    }
   ],
   "source": [
    "df2.loc[df2.BuildingArea > 3000].shape"
   ]
  },
  {
   "cell_type": "markdown",
   "metadata": {},
   "source": [
    "From the analysis above, we could see outliers from each variable that follows from each assumptions.<br>\n",
    "We could also see that outliers from each variable will not harm the dataset too much, since there are only 9 data that we will eliminate \n",
    "\n",
    "Therefore, we will remove the discovered outliers from above analysis."
   ]
  },
  {
   "cell_type": "code",
   "execution_count": 26,
   "metadata": {},
   "outputs": [],
   "source": [
    "df2_copy = df2.copy()\n",
    "\n",
    "df2_copy = df2_copy[df2_copy.Price < 6000000]\n",
    "df2_copy = df2_copy[df2_copy.Landsize < 10000]\n",
    "df2_copy = df2_copy[df2_copy.BuildingArea < 3000]"
   ]
  },
  {
   "cell_type": "code",
   "execution_count": 27,
   "metadata": {},
   "outputs": [
    {
     "data": {
      "text/plain": [
       "(4991, 21)"
      ]
     },
     "execution_count": 27,
     "metadata": {},
     "output_type": "execute_result"
    }
   ],
   "source": [
    "df2_copy.shape"
   ]
  },
  {
   "cell_type": "markdown",
   "metadata": {},
   "source": [
    "**Interpretation of above information:**\n",
    "\n",
    "Kita dapat menyimpulkan dalam data cleaning sebagai berikut:\n",
    "\n",
    "<br> **1. DELETING REDUNDANT COLUMNS** = **PASS**\n",
    "<br> **2. HANDLING NAN VALUES FROM DATASET = PASS**\n",
    "<br> **3. DATA TRANSFORMATION OF PRICE = PASS**\n",
    "<br> **4. REMOVING OUTLIER = PASS**"
   ]
  },
  {
   "cell_type": "markdown",
   "metadata": {},
   "source": [
    "## B. EDA (25 poin)\n",
    "\n",
    "1. Jalankan Exploratory Data Analysis yang berkaitan dengan langkah pembuatan model (model building)!\n",
    "2. Jenis plot yang wajib ada saat EDA yaitu Barplot, Boxplot, dan Histogram. Jenis plot lainnya boleh ditampilkan selama dijelaskan tujuan dan output-nya.\n",
    "3. Jelaskan setiap langkah Anda dalam Exploratory Data Analysis dan jelaskan informasi dari plot yang Anda tampilkan!"
   ]
  },
  {
   "cell_type": "markdown",
   "metadata": {},
   "source": [
    "**EXPLORING PRICE VARIABLE**"
   ]
  },
  {
   "cell_type": "code",
   "execution_count": 28,
   "metadata": {},
   "outputs": [
    {
     "data": {
      "text/html": [
       "<div>\n",
       "<style scoped>\n",
       "    .dataframe tbody tr th:only-of-type {\n",
       "        vertical-align: middle;\n",
       "    }\n",
       "\n",
       "    .dataframe tbody tr th {\n",
       "        vertical-align: top;\n",
       "    }\n",
       "\n",
       "    .dataframe thead th {\n",
       "        text-align: right;\n",
       "    }\n",
       "</style>\n",
       "<table border=\"1\" class=\"dataframe\">\n",
       "  <thead>\n",
       "    <tr style=\"text-align: right;\">\n",
       "      <th></th>\n",
       "      <th>count</th>\n",
       "      <th>mean</th>\n",
       "      <th>std</th>\n",
       "      <th>min</th>\n",
       "      <th>25%</th>\n",
       "      <th>50%</th>\n",
       "      <th>75%</th>\n",
       "      <th>max</th>\n",
       "    </tr>\n",
       "  </thead>\n",
       "  <tbody>\n",
       "    <tr>\n",
       "      <th>Rooms</th>\n",
       "      <td>4991.0</td>\n",
       "      <td>2.900421e+00</td>\n",
       "      <td>0.970250</td>\n",
       "      <td>1.00000</td>\n",
       "      <td>2.00000</td>\n",
       "      <td>3.0000</td>\n",
       "      <td>3.000000e+00</td>\n",
       "      <td>8.000000e+00</td>\n",
       "    </tr>\n",
       "    <tr>\n",
       "      <th>Price</th>\n",
       "      <td>4991.0</td>\n",
       "      <td>1.094471e+06</td>\n",
       "      <td>670283.865961</td>\n",
       "      <td>131000.00000</td>\n",
       "      <td>635000.00000</td>\n",
       "      <td>903000.0000</td>\n",
       "      <td>1.370000e+06</td>\n",
       "      <td>5.700000e+06</td>\n",
       "    </tr>\n",
       "    <tr>\n",
       "      <th>Distance</th>\n",
       "      <td>4991.0</td>\n",
       "      <td>8.882028e+00</td>\n",
       "      <td>4.369089</td>\n",
       "      <td>0.00000</td>\n",
       "      <td>5.90000</td>\n",
       "      <td>8.7000</td>\n",
       "      <td>1.140000e+01</td>\n",
       "      <td>4.590000e+01</td>\n",
       "    </tr>\n",
       "    <tr>\n",
       "      <th>Postcode</th>\n",
       "      <td>4991.0</td>\n",
       "      <td>3.096318e+03</td>\n",
       "      <td>67.908626</td>\n",
       "      <td>3000.00000</td>\n",
       "      <td>3042.00000</td>\n",
       "      <td>3079.0000</td>\n",
       "      <td>3.146000e+03</td>\n",
       "      <td>3.806000e+03</td>\n",
       "    </tr>\n",
       "    <tr>\n",
       "      <th>Bedroom2</th>\n",
       "      <td>4991.0</td>\n",
       "      <td>2.863955e+00</td>\n",
       "      <td>0.968091</td>\n",
       "      <td>0.00000</td>\n",
       "      <td>2.00000</td>\n",
       "      <td>3.0000</td>\n",
       "      <td>3.000000e+00</td>\n",
       "      <td>9.000000e+00</td>\n",
       "    </tr>\n",
       "    <tr>\n",
       "      <th>Bathroom</th>\n",
       "      <td>4991.0</td>\n",
       "      <td>1.563414e+00</td>\n",
       "      <td>0.711723</td>\n",
       "      <td>1.00000</td>\n",
       "      <td>1.00000</td>\n",
       "      <td>1.0000</td>\n",
       "      <td>2.000000e+00</td>\n",
       "      <td>8.000000e+00</td>\n",
       "    </tr>\n",
       "    <tr>\n",
       "      <th>Car</th>\n",
       "      <td>4991.0</td>\n",
       "      <td>1.540373e+00</td>\n",
       "      <td>0.927601</td>\n",
       "      <td>0.00000</td>\n",
       "      <td>1.00000</td>\n",
       "      <td>1.0000</td>\n",
       "      <td>2.000000e+00</td>\n",
       "      <td>1.000000e+01</td>\n",
       "    </tr>\n",
       "    <tr>\n",
       "      <th>Landsize</th>\n",
       "      <td>4991.0</td>\n",
       "      <td>4.329677e+02</td>\n",
       "      <td>580.638701</td>\n",
       "      <td>0.00000</td>\n",
       "      <td>138.00000</td>\n",
       "      <td>337.0000</td>\n",
       "      <td>6.130000e+02</td>\n",
       "      <td>9.838000e+03</td>\n",
       "    </tr>\n",
       "    <tr>\n",
       "      <th>BuildingArea</th>\n",
       "      <td>4991.0</td>\n",
       "      <td>1.401382e+02</td>\n",
       "      <td>83.247384</td>\n",
       "      <td>0.00000</td>\n",
       "      <td>89.00000</td>\n",
       "      <td>122.0000</td>\n",
       "      <td>1.690000e+02</td>\n",
       "      <td>1.561000e+03</td>\n",
       "    </tr>\n",
       "    <tr>\n",
       "      <th>YearBuilt</th>\n",
       "      <td>4991.0</td>\n",
       "      <td>1.961970e+03</td>\n",
       "      <td>37.567890</td>\n",
       "      <td>1830.00000</td>\n",
       "      <td>1933.50000</td>\n",
       "      <td>1965.0000</td>\n",
       "      <td>1.999000e+03</td>\n",
       "      <td>2.018000e+03</td>\n",
       "    </tr>\n",
       "    <tr>\n",
       "      <th>Lattitude</th>\n",
       "      <td>4991.0</td>\n",
       "      <td>-3.780825e+01</td>\n",
       "      <td>0.065902</td>\n",
       "      <td>-38.16492</td>\n",
       "      <td>-37.85260</td>\n",
       "      <td>-37.8025</td>\n",
       "      <td>-3.776115e+01</td>\n",
       "      <td>-3.748701e+01</td>\n",
       "    </tr>\n",
       "    <tr>\n",
       "      <th>Longtitude</th>\n",
       "      <td>4991.0</td>\n",
       "      <td>1.449871e+02</td>\n",
       "      <td>0.082612</td>\n",
       "      <td>144.55833</td>\n",
       "      <td>144.92905</td>\n",
       "      <td>144.9933</td>\n",
       "      <td>1.450473e+02</td>\n",
       "      <td>1.455264e+02</td>\n",
       "    </tr>\n",
       "    <tr>\n",
       "      <th>Propertycount</th>\n",
       "      <td>4991.0</td>\n",
       "      <td>7.409693e+03</td>\n",
       "      <td>4323.823899</td>\n",
       "      <td>389.00000</td>\n",
       "      <td>4442.00000</td>\n",
       "      <td>6567.0000</td>\n",
       "      <td>9.264000e+03</td>\n",
       "      <td>2.165000e+04</td>\n",
       "    </tr>\n",
       "  </tbody>\n",
       "</table>\n",
       "</div>"
      ],
      "text/plain": [
       "                count          mean            std           min  \\\n",
       "Rooms          4991.0  2.900421e+00       0.970250       1.00000   \n",
       "Price          4991.0  1.094471e+06  670283.865961  131000.00000   \n",
       "Distance       4991.0  8.882028e+00       4.369089       0.00000   \n",
       "Postcode       4991.0  3.096318e+03      67.908626    3000.00000   \n",
       "Bedroom2       4991.0  2.863955e+00       0.968091       0.00000   \n",
       "Bathroom       4991.0  1.563414e+00       0.711723       1.00000   \n",
       "Car            4991.0  1.540373e+00       0.927601       0.00000   \n",
       "Landsize       4991.0  4.329677e+02     580.638701       0.00000   \n",
       "BuildingArea   4991.0  1.401382e+02      83.247384       0.00000   \n",
       "YearBuilt      4991.0  1.961970e+03      37.567890    1830.00000   \n",
       "Lattitude      4991.0 -3.780825e+01       0.065902     -38.16492   \n",
       "Longtitude     4991.0  1.449871e+02       0.082612     144.55833   \n",
       "Propertycount  4991.0  7.409693e+03    4323.823899     389.00000   \n",
       "\n",
       "                        25%          50%           75%           max  \n",
       "Rooms               2.00000       3.0000  3.000000e+00  8.000000e+00  \n",
       "Price          635000.00000  903000.0000  1.370000e+06  5.700000e+06  \n",
       "Distance            5.90000       8.7000  1.140000e+01  4.590000e+01  \n",
       "Postcode         3042.00000    3079.0000  3.146000e+03  3.806000e+03  \n",
       "Bedroom2            2.00000       3.0000  3.000000e+00  9.000000e+00  \n",
       "Bathroom            1.00000       1.0000  2.000000e+00  8.000000e+00  \n",
       "Car                 1.00000       1.0000  2.000000e+00  1.000000e+01  \n",
       "Landsize          138.00000     337.0000  6.130000e+02  9.838000e+03  \n",
       "BuildingArea       89.00000     122.0000  1.690000e+02  1.561000e+03  \n",
       "YearBuilt        1933.50000    1965.0000  1.999000e+03  2.018000e+03  \n",
       "Lattitude         -37.85260     -37.8025 -3.776115e+01 -3.748701e+01  \n",
       "Longtitude        144.92905     144.9933  1.450473e+02  1.455264e+02  \n",
       "Propertycount    4442.00000    6567.0000  9.264000e+03  2.165000e+04  "
      ]
     },
     "execution_count": 28,
     "metadata": {},
     "output_type": "execute_result"
    }
   ],
   "source": [
    "df2_copy.describe().T"
   ]
  },
  {
   "cell_type": "markdown",
   "metadata": {},
   "source": [
    "#### From this information we could take early inference that the average house from the dataset has:\n",
    "\n",
    "1. At least 2 bedrooms and 1 bathrooms\n",
    "2. Average building area 1400 m\n",
    "3. Average built in the year of 1961\n",
    "4. Average price of 1 million USD\n",
    "5. with an average 7 houses in neighborhood"
   ]
  },
  {
   "cell_type": "code",
   "execution_count": 29,
   "metadata": {},
   "outputs": [
    {
     "data": {
      "text/plain": [
       "<matplotlib.axes._subplots.AxesSubplot at 0x14648458220>"
      ]
     },
     "execution_count": 29,
     "metadata": {},
     "output_type": "execute_result"
    },
    {
     "data": {
      "image/png": "[encoded data removed]",
      "text/plain": [
       "<Figure size 432x288 with 1 Axes>"
      ]
     },
     "metadata": {
      "needs_background": "light"
     },
     "output_type": "display_data"
    }
   ],
   "source": [
    "sns.boxplot(df2_copy[\"Price\"])"
   ]
  },
  {
   "cell_type": "markdown",
   "metadata": {},
   "source": [
    "**Interpretation of above information:**\n",
    "\n",
    "1. Since data is not normally distributed, house price that is above 2.5 million USD is considered as a potential outliers (indicated by black dots on the right)\n",
    "2. The line in the middle of blue box is a median. The median of this data is 903000\n",
    "3. The minimum value of the price is 131000\n",
    "4. The maximum value of the price is 5.70 million USD\n",
    "5. The average of house price is 1 million USD"
   ]
  },
  {
   "cell_type": "code",
   "execution_count": 30,
   "metadata": {
    "scrolled": true
   },
   "outputs": [
    {
     "data": {
      "image/png": "[encoded data removed]",
      "text/plain": [
       "<Figure size 720x288 with 1 Axes>"
      ]
     },
     "metadata": {
      "needs_background": "light"
     },
     "output_type": "display_data"
    }
   ],
   "source": [
    "plt.figure(figsize=(10,4))\n",
    "plt.title(\"House Price Distribution\", size=18)\n",
    "sns.distplot(df2_copy[\"Price\"])\n",
    "\n",
    "plt.xlabel('Average house price', size=15)\n",
    "plt.show()"
   ]
  },
  {
   "cell_type": "markdown",
   "metadata": {},
   "source": [
    "**Interpretation of above information:**\n",
    "\n",
    "1. This information shows that the variable price has positive skewness. \n",
    "2. This indicates that most of the population does not have high buying power in purchasing house. \n",
    "3. That is, this implies that majorities of the population could only afford mid to low price, while few of the population could afford higher house price."
   ]
  },
  {
   "cell_type": "code",
   "execution_count": 31,
   "metadata": {},
   "outputs": [
    {
     "name": "stdout",
     "output_type": "stream",
     "text": [
      "<class 'pandas.core.frame.DataFrame'>\n",
      "Int64Index: 4991 entries, 1 to 9670\n",
      "Data columns (total 21 columns):\n",
      " #   Column         Non-Null Count  Dtype  \n",
      "---  ------         --------------  -----  \n",
      " 0   Suburb         4991 non-null   object \n",
      " 1   Address        4991 non-null   object \n",
      " 2   Rooms          4991 non-null   int64  \n",
      " 3   Type           4991 non-null   object \n",
      " 4   Price          4991 non-null   int64  \n",
      " 5   Method         4991 non-null   object \n",
      " 6   SellerG        4991 non-null   object \n",
      " 7   Date           4991 non-null   object \n",
      " 8   Distance       4991 non-null   float64\n",
      " 9   Postcode       4991 non-null   float64\n",
      " 10  Bedroom2       4991 non-null   float64\n",
      " 11  Bathroom       4991 non-null   float64\n",
      " 12  Car            4991 non-null   float64\n",
      " 13  Landsize       4991 non-null   float64\n",
      " 14  BuildingArea   4991 non-null   float64\n",
      " 15  YearBuilt      4991 non-null   float64\n",
      " 16  CouncilArea    4991 non-null   object \n",
      " 17  Lattitude      4991 non-null   float64\n",
      " 18  Longtitude     4991 non-null   float64\n",
      " 19  Regionname     4991 non-null   object \n",
      " 20  Propertycount  4991 non-null   float64\n",
      "dtypes: float64(11), int64(2), object(8)\n",
      "memory usage: 857.8+ KB\n"
     ]
    }
   ],
   "source": [
    "df2_copy.info()"
   ]
  },
  {
   "cell_type": "code",
   "execution_count": 32,
   "metadata": {},
   "outputs": [
    {
     "data": {
      "image/png": "[encoded data removed]",
      "text/plain": [
       "<Figure size 864x432 with 2 Axes>"
      ]
     },
     "metadata": {
      "needs_background": "light"
     },
     "output_type": "display_data"
    }
   ],
   "source": [
    "fig, axs = plt.subplots(ncols=2, figsize=(12,6))\n",
    "\n",
    "ax = sns.countplot(x='Rooms',data=df2_copy, palette='Set2', ax=axs[0])\n",
    "ax.set_xticklabels(ax.get_xticklabels(), rotation=60, ha=\"right\")\n",
    "sns.boxplot(y='Price',x='Rooms',data=df2_copy, palette='Set2', ax=axs[1])\n",
    "\n",
    "plt.tight_layout()\n",
    "plt.show()"
   ]
  },
  {
   "cell_type": "markdown",
   "metadata": {},
   "source": [
    "**Interpretation of above information:**\n",
    "\n",
    "1. There is an indication that shows that **more rooms** in a house will result a **higher house price**\n",
    "2. Most house were sold with 3 rooms, followed by 2 rooms, and 4 rooms."
   ]
  },
  {
   "cell_type": "code",
   "execution_count": 33,
   "metadata": {
    "scrolled": false
   },
   "outputs": [
    {
     "data": {
      "image/png": "[encoded data removed]",
      "text/plain": [
       "<Figure size 864x432 with 2 Axes>"
      ]
     },
     "metadata": {
      "needs_background": "light"
     },
     "output_type": "display_data"
    }
   ],
   "source": [
    "fig, axs = plt.subplots(ncols=2, figsize=(12,6))\n",
    "\n",
    "ax = sns.countplot(x='Bedroom2',data=df2_copy, palette='Set2', ax=axs[0])\n",
    "ax.set_xticklabels(ax.get_xticklabels(), rotation=60, ha=\"right\")\n",
    "sns.boxplot(y='Price',x='Bedroom2',data=df2_copy, palette='Set2', ax=axs[1])\n",
    "\n",
    "plt.tight_layout()\n",
    "plt.show()"
   ]
  },
  {
   "cell_type": "markdown",
   "metadata": {},
   "source": [
    "**Interpretation of above information:**\n",
    "\n",
    "1. There is an indication that shows that **more bedrooms** in a house will result a **higher house price**\n",
    "2. Most house were sold with 3 bedrooms, followed by 2 bedrooms."
   ]
  },
  {
   "cell_type": "code",
   "execution_count": 34,
   "metadata": {},
   "outputs": [
    {
     "data": {
      "image/png": "[encoded data removed]",
      "text/plain": [
       "<Figure size 864x432 with 2 Axes>"
      ]
     },
     "metadata": {
      "needs_background": "light"
     },
     "output_type": "display_data"
    }
   ],
   "source": [
    "fig, axs = plt.subplots(ncols=2, figsize=(12,6))\n",
    "\n",
    "ax = sns.countplot(x='Bathroom',data=df2_copy, palette='Set2', ax=axs[0])\n",
    "ax.set_xticklabels(ax.get_xticklabels(), rotation=60, ha=\"right\")\n",
    "sns.boxplot(y='Price',x='Bathroom',data=df2_copy, palette='Set2', ax=axs[1])\n",
    "\n",
    "plt.tight_layout()\n",
    "plt.show()"
   ]
  },
  {
   "cell_type": "markdown",
   "metadata": {},
   "source": [
    "**Interpretation of above information:**\n",
    "\n",
    "1. There is an indication that shows that **more bathrooms** in a house will result a **higher house price**\n",
    "2. Most house were sold with 1 bathrooms, followed by 2 bathrooms."
   ]
  },
  {
   "cell_type": "code",
   "execution_count": 35,
   "metadata": {},
   "outputs": [
    {
     "data": {
      "image/png": "[encoded data removed]",
      "text/plain": [
       "<Figure size 432x576 with 1 Axes>"
      ]
     },
     "metadata": {
      "needs_background": "light"
     },
     "output_type": "display_data"
    }
   ],
   "source": [
    "# Create a dataframe for the top 5/bottom 5 zipcodes in terms of average price. Then, combine the dataframes. \n",
    "\n",
    "pd.options.display.float_format = \"{:.2f}\".format # Round to 2 decimal places\n",
    "\n",
    "top = df2_copy.groupby('CouncilArea')['Price'].mean().reset_index().sort_values('Price', ascending=False)[:5]\n",
    "bot = df2_copy.groupby('CouncilArea')['Price'].mean().reset_index().sort_values('Price', ascending=False)[-5:]\n",
    "combined = pd.concat([top, bot])\n",
    "combined.sort_values('Price', ascending=True, inplace=True)\n",
    "\n",
    "plt.figure(figsize=(6,8))\n",
    "\n",
    "sns.barplot(x='Price', y='CouncilArea' , order = combined['CouncilArea'], orient='h', data=combined, palette='YlOrRd')\n",
    "\n",
    "plt.title('Neighborhood Price Comparison', size=18)\n",
    "plt.ylabel('CouncilArea', size=15)\n",
    "plt.xlabel('Average Home Price', size=15)\n",
    "plt.xticks(rotation=45)\n",
    "\n",
    "plt.show()"
   ]
  },
  {
   "cell_type": "markdown",
   "metadata": {},
   "source": [
    "**Interpretation of above information:**\n",
    "\n",
    "1. We could see the average house price from Concil Area, where house within Bayside area has the most expensive average price \n",
    "2. house within Melton Area has the cheapest average price.\n",
    "3. In other words, customers who live in Bayside is probably has more income, and lives in a better area."
   ]
  },
  {
   "cell_type": "code",
   "execution_count": 36,
   "metadata": {},
   "outputs": [
    {
     "data": {
      "image/png": "[encoded data removed]",
      "text/plain": [
       "<Figure size 432x576 with 1 Axes>"
      ]
     },
     "metadata": {
      "needs_background": "light"
     },
     "output_type": "display_data"
    }
   ],
   "source": [
    "# Create a dataframe for the top 5/bottom 5 zipcodes in terms of average price. Then, combine the dataframes. \n",
    "\n",
    "pd.options.display.float_format = \"{:.2f}\".format # Round to 2 decimal places\n",
    "\n",
    "top = df2_copy.groupby('Postcode')['Price'].mean().reset_index().sort_values('Price', ascending=False)[:5]\n",
    "bot = df2_copy.groupby('Postcode')['Price'].mean().reset_index().sort_values('Price', ascending=False)[-5:]\n",
    "combined = pd.concat([top, bot])\n",
    "combined.sort_values('Price', ascending=True, inplace=True)\n",
    "\n",
    "plt.figure(figsize=(6,8))\n",
    "\n",
    "sns.barplot(x='Price', y='Postcode' , order = combined['Postcode'], orient='h', data=combined, palette='YlOrRd')\n",
    "\n",
    "plt.title('Neighborhood Price Comparison', size=18)\n",
    "plt.ylabel('Postcode', size=15)\n",
    "plt.xlabel('Average Home Price', size=15)\n",
    "plt.xticks(rotation=45)\n",
    "\n",
    "plt.show()"
   ]
  },
  {
   "cell_type": "markdown",
   "metadata": {},
   "source": [
    "**Interpretation of above information:**\n",
    "\n",
    "1. We could see the average house price from PostCode area, where house within 3111 area has the most expensive average price \n",
    "2. House within 3338 PostCode Area has the cheapest average price.\n",
    "3. In other words, customers who live in 3111 Area is probably has more income, and lives in a better area."
   ]
  },
  {
   "cell_type": "code",
   "execution_count": 37,
   "metadata": {},
   "outputs": [
    {
     "name": "stderr",
     "output_type": "stream",
     "text": [
      "No handles with labels found to put in legend.\n"
     ]
    },
    {
     "data": {
      "text/plain": [
       "<matplotlib.legend.Legend at 0x146488291f0>"
      ]
     },
     "execution_count": 37,
     "metadata": {},
     "output_type": "execute_result"
    },
    {
     "data": {
      "image/png": "[encoded data removed]",
      "text/plain": [
       "<Figure size 1080x432 with 1 Axes>"
      ]
     },
     "metadata": {
      "needs_background": "light"
     },
     "output_type": "display_data"
    }
   ],
   "source": [
    "plt.figure(figsize=(15,6))\n",
    "sns.barplot(data=df2_copy,x=\"Price\", y=\"BuildingArea\")\n",
    "plt.title(\"house prices by Building Area\")\n",
    "plt.xlabel('BuildingArea')\n",
    "plt.ylabel('house prices')\n",
    "plt.legend()"
   ]
  },
  {
   "cell_type": "markdown",
   "metadata": {},
   "source": [
    "**Interpretation of above information:**\n",
    "\n",
    "1. The **bigger the building area** will gives **higher house price**"
   ]
  },
  {
   "cell_type": "code",
   "execution_count": 40,
   "metadata": {},
   "outputs": [
    {
     "data": {
      "image/png": "[encoded data removed]",
      "text/plain": [
       "<Figure size 864x648 with 2 Axes>"
      ]
     },
     "metadata": {},
     "output_type": "display_data"
    }
   ],
   "source": [
    "feats = df2_copy.corr().nlargest(10,\"Price\")[\"Price\"].index\n",
    "cm = np.corrcoef(df2_copy[feats].values.T)\n",
    "plt.figure(figsize=(12,9))\n",
    "plt.title(\"Top 10 Correlated Features\",fontsize=16)\n",
    "sns.heatmap(cm,annot=True,fmt=\".2f\",linewidths=1.0,square=True,xticklabels=feats,yticklabels=feats,annot_kws={\"fontsize\":14})\n",
    "plt.show()"
   ]
  },
  {
   "cell_type": "markdown",
   "metadata": {},
   "source": [
    "From this correlation infromation, we could infer some initial assumption that price has strong correlation (>0.6) with:\n",
    "1. BuildingArea\n",
    "2. Rooms\n",
    "3. Bedrooms\n",
    "4. Bathrooms\n",
    "\n",
    "In any case, it is a logical and common sense conclusion to grasp the idea that a size of property would positively correlated with the price"
   ]
  },
  {
   "cell_type": "markdown",
   "metadata": {},
   "source": [
    "## C. Model Building & Hyper-parameter Tuning (30 poin)\n",
    "\n",
    "1. Setelah menjalankan EDA, pilih model ML terbaik untuk memprediksi harga rumah, beri alasan pemilihan!\n",
    "2. Jalankan cross validation/K-Fold serta cek apakah model ML yang Anda buat tergolong underfitting atau overfitting."
   ]
  },
  {
   "cell_type": "code",
   "execution_count": 41,
   "metadata": {},
   "outputs": [
    {
     "name": "stderr",
     "output_type": "stream",
     "text": [
      "C:\\ProgramData\\Anaconda3\\lib\\site-packages\\sklearn\\utils\\deprecation.py:143: FutureWarning:\n",
      "\n",
      "The sklearn.metrics.scorer module is  deprecated in version 0.22 and will be removed in version 0.24. The corresponding classes / functions should instead be imported from sklearn.metrics. Anything that cannot be imported from sklearn.metrics is now part of the private API.\n",
      "\n"
     ]
    }
   ],
   "source": [
    "from sklearn.model_selection import train_test_split\n",
    "from sklearn.metrics import classification_report, confusion_matrix, roc_curve, accuracy_score, matthews_corrcoef, auc, log_loss\n",
    "from sklearn.tree import DecisionTreeClassifier, DecisionTreeRegressor\n",
    "from sklearn.preprocessing import StandardScaler\n",
    "from sklearn.linear_model import LogisticRegression\n",
    "from xgboost import XGBClassifier\n",
    "from sklearn.pipeline import Pipeline\n",
    "from sklearn.preprocessing import StandardScaler\n",
    "from sklearn.preprocessing import LabelEncoder\n",
    "from sklearn.preprocessing import OneHotEncoder\n",
    "from sklearn import metrics\n",
    "from sklearn import linear_model\n",
    "from sklearn.model_selection import GridSearchCV\n",
    "from sklearn.model_selection import cross_val_score\n",
    "from sklearn.preprocessing import MinMaxScaler\n",
    "from sklearn.linear_model import Ridge\n",
    "from sklearn.model_selection import train_test_split\n",
    "from sklearn.model_selection import ShuffleSplit\n",
    "from sklearn.metrics import scorer\n",
    "from sklearn.metrics import make_scorer\n",
    "\n",
    "#Importing Metrics\n",
    "from sklearn.metrics import mean_squared_error\n",
    "from sklearn.metrics import mean_absolute_error\n",
    "from sklearn.metrics import accuracy_score\n",
    "from sklearn.metrics import r2_score\n",
    "\n",
    "#Importing ML models\n",
    "from sklearn.linear_model import LinearRegression\n",
    "from sklearn.linear_model import Lasso\n",
    "from sklearn.linear_model import ElasticNet\n",
    "from sklearn.ensemble import RandomForestRegressor\n",
    "from sklearn.ensemble import ExtraTreesRegressor\n",
    "from sklearn.ensemble import GradientBoostingRegressor\n",
    "from sklearn.ensemble import AdaBoostRegressor\n",
    "from sklearn.tree import DecisionTreeRegressor\n",
    "from sklearn.neural_network import MLPRegressor\n",
    "from xgboost import XGBRegressor\n",
    "from catboost import CatBoostRegressor\n",
    "from lightgbm import LGBMRegressor"
   ]
  },
  {
   "cell_type": "code",
   "execution_count": 42,
   "metadata": {},
   "outputs": [
    {
     "data": {
      "text/plain": [
       "Index(['Suburb', 'Address', 'Rooms', 'Type', 'Price', 'Method', 'SellerG',\n",
       "       'Date', 'Distance', 'Postcode', 'Bedroom2', 'Bathroom', 'Car',\n",
       "       'Landsize', 'BuildingArea', 'YearBuilt', 'CouncilArea', 'Lattitude',\n",
       "       'Longtitude', 'Regionname', 'Propertycount'],\n",
       "      dtype='object')"
      ]
     },
     "execution_count": 42,
     "metadata": {},
     "output_type": "execute_result"
    }
   ],
   "source": [
    "df2_copy.columns"
   ]
  },
  {
   "cell_type": "code",
   "execution_count": 43,
   "metadata": {},
   "outputs": [
    {
     "name": "stdout",
     "output_type": "stream",
     "text": [
      "<class 'pandas.core.frame.DataFrame'>\n",
      "Int64Index: 4991 entries, 1 to 9670\n",
      "Data columns (total 21 columns):\n",
      " #   Column         Non-Null Count  Dtype  \n",
      "---  ------         --------------  -----  \n",
      " 0   Suburb         4991 non-null   object \n",
      " 1   Address        4991 non-null   object \n",
      " 2   Rooms          4991 non-null   int64  \n",
      " 3   Type           4991 non-null   object \n",
      " 4   Price          4991 non-null   int64  \n",
      " 5   Method         4991 non-null   object \n",
      " 6   SellerG        4991 non-null   object \n",
      " 7   Date           4991 non-null   object \n",
      " 8   Distance       4991 non-null   float64\n",
      " 9   Postcode       4991 non-null   float64\n",
      " 10  Bedroom2       4991 non-null   float64\n",
      " 11  Bathroom       4991 non-null   float64\n",
      " 12  Car            4991 non-null   float64\n",
      " 13  Landsize       4991 non-null   float64\n",
      " 14  BuildingArea   4991 non-null   float64\n",
      " 15  YearBuilt      4991 non-null   float64\n",
      " 16  CouncilArea    4991 non-null   object \n",
      " 17  Lattitude      4991 non-null   float64\n",
      " 18  Longtitude     4991 non-null   float64\n",
      " 19  Regionname     4991 non-null   object \n",
      " 20  Propertycount  4991 non-null   float64\n",
      "dtypes: float64(11), int64(2), object(8)\n",
      "memory usage: 1017.8+ KB\n"
     ]
    }
   ],
   "source": [
    "df2_copy.info()"
   ]
  },
  {
   "cell_type": "markdown",
   "metadata": {},
   "source": [
    "From this information, we will do the following activities:\n",
    "\n",
    "1. Drop categorical variables\n",
    "2. Drop datetime64 variable\n",
    "3. Lattitude and Longitude (This is treated as categorical)\n",
    "\n",
    "Since it will convolute the model"
   ]
  },
  {
   "cell_type": "code",
   "execution_count": 44,
   "metadata": {},
   "outputs": [
    {
     "name": "stdout",
     "output_type": "stream",
     "text": [
      "(3493, 10) (3493,)\n",
      "(1498, 10) (1498,)\n"
     ]
    }
   ],
   "source": [
    "# Preparing Data and Target dataframe\n",
    "data = df2_copy.drop(columns=['Suburb', \n",
    "                              'Address',\n",
    "                              'Price',\n",
    "                              'Type', \n",
    "                              'Method', \n",
    "                              'SellerG', \n",
    "                              'Date', \n",
    "                              'CouncilArea', \n",
    "                              'Regionname', \n",
    "                              'Lattitude', \n",
    "                              'Longtitude'])\n",
    "data = pd.get_dummies(data, drop_first=True)\n",
    "target = df2_copy['Price']\n",
    "\n",
    "# Data splitting for Train, Validation and Test\n",
    "from sklearn.model_selection import train_test_split\n",
    "X_train, X_test, y_train, y_test = train_test_split(data, target, test_size=0.3, random_state=18)\n",
    "\n",
    "#_____ Checking shape ____\n",
    "print(X_train.shape, y_train.shape)\n",
    "print(X_test.shape, y_test.shape)"
   ]
  },
  {
   "cell_type": "code",
   "execution_count": 45,
   "metadata": {},
   "outputs": [
    {
     "data": {
      "text/plain": [
       "Index(['Rooms', 'Distance', 'Postcode', 'Bedroom2', 'Bathroom', 'Car',\n",
       "       'Landsize', 'BuildingArea', 'YearBuilt', 'Propertycount'],\n",
       "      dtype='object')"
      ]
     },
     "execution_count": 45,
     "metadata": {},
     "output_type": "execute_result"
    }
   ],
   "source": [
    "X_train.columns"
   ]
  },
  {
   "cell_type": "code",
   "execution_count": 46,
   "metadata": {},
   "outputs": [
    {
     "name": "stdout",
     "output_type": "stream",
     "text": [
      "<class 'pandas.core.frame.DataFrame'>\n",
      "Int64Index: 3493 entries, 5606 to 6236\n",
      "Data columns (total 10 columns):\n",
      " #   Column         Non-Null Count  Dtype  \n",
      "---  ------         --------------  -----  \n",
      " 0   Rooms          3493 non-null   int64  \n",
      " 1   Distance       3493 non-null   float64\n",
      " 2   Postcode       3493 non-null   float64\n",
      " 3   Bedroom2       3493 non-null   float64\n",
      " 4   Bathroom       3493 non-null   float64\n",
      " 5   Car            3493 non-null   float64\n",
      " 6   Landsize       3493 non-null   float64\n",
      " 7   BuildingArea   3493 non-null   float64\n",
      " 8   YearBuilt      3493 non-null   float64\n",
      " 9   Propertycount  3493 non-null   float64\n",
      "dtypes: float64(9), int64(1)\n",
      "memory usage: 300.2 KB\n"
     ]
    }
   ],
   "source": [
    "X_train.info()"
   ]
  },
  {
   "cell_type": "markdown",
   "metadata": {},
   "source": [
    "### Initial Regression Machine Learning Model Evaluation"
   ]
  },
  {
   "cell_type": "markdown",
   "metadata": {},
   "source": [
    "**Model 1 RandomForestRegressor**"
   ]
  },
  {
   "cell_type": "code",
   "execution_count": 47,
   "metadata": {},
   "outputs": [],
   "source": [
    "model_RFR = RandomForestRegressor(n_estimators=100)\n",
    "model_RFR.fit(X_train, y_train)\n",
    "\n",
    "yhat_pred_RFR = model_RFR.predict(X_test)\n",
    "\n",
    "cross_val_RFR = round(np.mean(cross_val_score(model_RFR,X_train,y_train)),4)\n",
    "R2_RFR = round(r2_score(y_test, yhat_pred_RFR),4)\n",
    "MAE_RFR = int(mean_absolute_error(y_test,yhat_pred_RFR))"
   ]
  },
  {
   "cell_type": "markdown",
   "metadata": {},
   "source": [
    "**Model 2 XGB Regressor**"
   ]
  },
  {
   "cell_type": "code",
   "execution_count": 48,
   "metadata": {},
   "outputs": [],
   "source": [
    "model_xgboost = XGBRegressor()\n",
    "model_xgboost.fit(X_train, y_train)\n",
    "\n",
    "yhat_pred_xgboost = model_xgboost.predict(X_test)\n",
    "\n",
    "cross_val_xgboost = round(np.mean(cross_val_score(model_xgboost,X_train,y_train)),4)\n",
    "R2_xgboost = round(r2_score(y_test, yhat_pred_xgboost),4)\n",
    "MAE_xgboost = int(mean_absolute_error(y_test,yhat_pred_xgboost))"
   ]
  },
  {
   "cell_type": "markdown",
   "metadata": {},
   "source": [
    "**Model 3 Extra Trees Regressor**"
   ]
  },
  {
   "cell_type": "code",
   "execution_count": 49,
   "metadata": {},
   "outputs": [],
   "source": [
    "model_ETR = ExtraTreesRegressor()\n",
    "model_ETR.fit(X_train, y_train)\n",
    "\n",
    "yhat_pred_ETR = model_ETR.predict(X_test)\n",
    "\n",
    "cross_val_ETR = round(np.mean(cross_val_score(model_ETR,X_train,y_train)),4)\n",
    "R2_ETR = round(r2_score(y_test, yhat_pred_ETR),4)\n",
    "MAE_ETR = int(mean_absolute_error(y_test,yhat_pred_ETR))"
   ]
  },
  {
   "cell_type": "markdown",
   "metadata": {},
   "source": [
    "**Model 4 Decision Tree Regression**"
   ]
  },
  {
   "cell_type": "code",
   "execution_count": 50,
   "metadata": {},
   "outputs": [],
   "source": [
    "model_DTR = DecisionTreeRegressor()\n",
    "model_DTR.fit(X_train, y_train)\n",
    "\n",
    "yhat_pred_DTR = model_DTR.predict(X_test)\n",
    "\n",
    "cross_val_DTR = round(np.mean(cross_val_score(model_DTR,X_train,y_train)),4)\n",
    "R2_DTR = round(r2_score(y_test, yhat_pred_DTR),4)\n",
    "MAE_DTR = int(mean_absolute_error(y_test,yhat_pred_DTR))"
   ]
  },
  {
   "cell_type": "markdown",
   "metadata": {},
   "source": [
    "**Model 5 Gradient Boosting Regression**"
   ]
  },
  {
   "cell_type": "code",
   "execution_count": 51,
   "metadata": {},
   "outputs": [],
   "source": [
    "model_GBR = GradientBoostingRegressor()\n",
    "model_GBR.fit(X_train, y_train)\n",
    "\n",
    "yhat_pred_GBR = model_GBR.predict(X_test)\n",
    "\n",
    "cross_val_GBR = round(np.mean(cross_val_score(model_GBR,X_train,y_train)),4)\n",
    "R2_GBR = round(r2_score(y_test, yhat_pred_GBR),4)\n",
    "MAE_GBR = int(mean_absolute_error(y_test,yhat_pred_GBR))"
   ]
  },
  {
   "cell_type": "markdown",
   "metadata": {},
   "source": [
    "**Model 6 LGBM Regression**"
   ]
  },
  {
   "cell_type": "code",
   "execution_count": 52,
   "metadata": {},
   "outputs": [],
   "source": [
    "model_LGBM = LGBMRegressor()\n",
    "model_LGBM.fit(X_train, y_train)\n",
    "\n",
    "yhat_pred_LGBM = model_LGBM.predict(X_test)\n",
    "\n",
    "cross_val_LGBM = round(np.mean(cross_val_score(model_LGBM,X_train,y_train)),4)\n",
    "R2_LGBM = round(r2_score(y_test, yhat_pred_LGBM),4)\n",
    "MAE_LGBM = int(mean_absolute_error(y_test,yhat_pred_LGBM))"
   ]
  },
  {
   "cell_type": "markdown",
   "metadata": {},
   "source": [
    "**Model Evaluation**"
   ]
  },
  {
   "cell_type": "code",
   "execution_count": 53,
   "metadata": {
    "scrolled": false
   },
   "outputs": [
    {
     "data": {
      "text/html": [
       "<div>\n",
       "<style scoped>\n",
       "    .dataframe tbody tr th:only-of-type {\n",
       "        vertical-align: middle;\n",
       "    }\n",
       "\n",
       "    .dataframe tbody tr th {\n",
       "        vertical-align: top;\n",
       "    }\n",
       "\n",
       "    .dataframe thead th {\n",
       "        text-align: right;\n",
       "    }\n",
       "</style>\n",
       "<table border=\"1\" class=\"dataframe\">\n",
       "  <thead>\n",
       "    <tr style=\"text-align: right;\">\n",
       "      <th></th>\n",
       "      <th>Model</th>\n",
       "      <th>Mean Absolute Error</th>\n",
       "      <th>R2 Score</th>\n",
       "      <th>Cross Validation Score</th>\n",
       "    </tr>\n",
       "  </thead>\n",
       "  <tbody>\n",
       "    <tr>\n",
       "      <th>5</th>\n",
       "      <td>LGBM Regressor</td>\n",
       "      <td>176708</td>\n",
       "      <td>0.82</td>\n",
       "      <td>0.82</td>\n",
       "    </tr>\n",
       "    <tr>\n",
       "      <th>1</th>\n",
       "      <td>XGBOOST Regression</td>\n",
       "      <td>186152</td>\n",
       "      <td>0.80</td>\n",
       "      <td>0.81</td>\n",
       "    </tr>\n",
       "    <tr>\n",
       "      <th>4</th>\n",
       "      <td>Gradient Boosting Regressor</td>\n",
       "      <td>194729</td>\n",
       "      <td>0.78</td>\n",
       "      <td>0.81</td>\n",
       "    </tr>\n",
       "    <tr>\n",
       "      <th>0</th>\n",
       "      <td>Random Forest Regression</td>\n",
       "      <td>186542</td>\n",
       "      <td>0.79</td>\n",
       "      <td>0.80</td>\n",
       "    </tr>\n",
       "    <tr>\n",
       "      <th>2</th>\n",
       "      <td>ExtraTreesRegressor</td>\n",
       "      <td>189917</td>\n",
       "      <td>0.80</td>\n",
       "      <td>0.80</td>\n",
       "    </tr>\n",
       "    <tr>\n",
       "      <th>3</th>\n",
       "      <td>Decision Tree Regressor</td>\n",
       "      <td>258202</td>\n",
       "      <td>0.62</td>\n",
       "      <td>0.60</td>\n",
       "    </tr>\n",
       "  </tbody>\n",
       "</table>\n",
       "</div>"
      ],
      "text/plain": [
       "                         Model  Mean Absolute Error  R2 Score  \\\n",
       "5               LGBM Regressor               176708      0.82   \n",
       "1           XGBOOST Regression               186152      0.80   \n",
       "4  Gradient Boosting Regressor               194729      0.78   \n",
       "0     Random Forest Regression               186542      0.79   \n",
       "2          ExtraTreesRegressor               189917      0.80   \n",
       "3      Decision Tree Regressor               258202      0.62   \n",
       "\n",
       "   Cross Validation Score  \n",
       "5                    0.82  \n",
       "1                    0.81  \n",
       "4                    0.81  \n",
       "0                    0.80  \n",
       "2                    0.80  \n",
       "3                    0.60  "
      ]
     },
     "execution_count": 53,
     "metadata": {},
     "output_type": "execute_result"
    }
   ],
   "source": [
    "models = pd.DataFrame({\n",
    "    'Model': ['Random Forest Regression', \n",
    "              'XGBOOST Regression', \n",
    "              'ExtraTreesRegressor', \n",
    "              'Decision Tree Regressor', \n",
    "              'Gradient Boosting Regressor',\n",
    "              'LGBM Regressor'],\n",
    "    'Mean Absolute Error': [MAE_RFR, \n",
    "                            MAE_xgboost, \n",
    "                            MAE_ETR, \n",
    "                            MAE_DTR, \n",
    "                            MAE_GBR, \n",
    "                            MAE_LGBM],    \n",
    "    'R2 Score': [R2_RFR, \n",
    "                 R2_xgboost, \n",
    "                 R2_ETR, \n",
    "                 R2_DTR, \n",
    "                 R2_GBR, \n",
    "                 R2_LGBM],    \n",
    "    'Cross Validation Score': [cross_val_RFR, \n",
    "                               cross_val_xgboost, \n",
    "                               cross_val_ETR, \n",
    "                               cross_val_DTR,  \n",
    "                               cross_val_GBR,\n",
    "                               cross_val_LGBM]})\n",
    "\n",
    "models.sort_values(by='Cross Validation Score', ascending=False)"
   ]
  },
  {
   "cell_type": "markdown",
   "metadata": {},
   "source": [
    "From the analysis above, we could see that **LGBM** is the best model, followed by **XGBOOST Regressor.**\n",
    "\n",
    "The following sections would discuss the hyperparameter from **the best two models**, which are **LGBM Regressor** and **XGB Regressor**. The other 5 models are not tuned further, since their score is below than these two models, and some of them are not satisfactory enough to be used as a model prediction."
   ]
  },
  {
   "cell_type": "markdown",
   "metadata": {},
   "source": [
    "# Tuning Model - LGBM"
   ]
  },
  {
   "cell_type": "code",
   "execution_count": 54,
   "metadata": {},
   "outputs": [
    {
     "name": "stdout",
     "output_type": "stream",
     "text": [
      "Fitting 5 folds for each of 192 candidates, totalling 960 fits\n"
     ]
    },
    {
     "name": "stderr",
     "output_type": "stream",
     "text": [
      "[Parallel(n_jobs=-1)]: Using backend LokyBackend with 12 concurrent workers.\n",
      "[Parallel(n_jobs=-1)]: Done  17 tasks      | elapsed:    3.2s\n",
      "[Parallel(n_jobs=-1)]: Done 138 tasks      | elapsed:    6.2s\n",
      "[Parallel(n_jobs=-1)]: Done 341 tasks      | elapsed:   11.8s\n",
      "[Parallel(n_jobs=-1)]: Done 624 tasks      | elapsed:   19.4s\n"
     ]
    },
    {
     "name": "stdout",
     "output_type": "stream",
     "text": [
      "[LightGBM] [Warning] Unknown parameter: bootstrap\n",
      "[LightGBM] [Warning] Unknown parameter: min_samples_split\n",
      "Best Params:  {'bootstrap': True, 'colsample_bytree': 0.7, 'learning_rate': 0.1, 'max_bin': 100, 'max_depth': 3, 'min_samples_split': 2, 'n_estimators': 300, 'num_iterations': 500}\n",
      "Best Score :  -174028.5622183791\n",
      "R Square               :  82.5531093090884\n",
      "Mean Squared Error     :  82788381162.49806\n",
      "Root Mean Squared Error:  287729.70156467694\n",
      "Median Absolute Error  :  110604.08173836951\n",
      "Explained Variance     :  0.8257445569149874\n"
     ]
    },
    {
     "name": "stderr",
     "output_type": "stream",
     "text": [
      "[Parallel(n_jobs=-1)]: Done 960 out of 960 | elapsed:   28.5s finished\n",
      "C:\\ProgramData\\Anaconda3\\lib\\site-packages\\lightgbm\\engine.py:151: UserWarning:\n",
      "\n",
      "Found `num_iterations` in params. Will use it instead of argument\n",
      "\n"
     ]
    }
   ],
   "source": [
    "# Model Tuning\n",
    "param_grid = {\n",
    "    'learning_rate': [0.1, 0.01],\n",
    "    'max_depth': [3],\n",
    "    'colsample_bytree': [0.4, 0.7, 1],\n",
    "    'n_estimators': [300, 500],\n",
    "    'bootstrap': [True, False],\n",
    "    'min_samples_split' : [2, 5],\n",
    "    'max_bin': [100, 200],\n",
    "    'num_iterations': [500, 1000]\n",
    "}\n",
    "\n",
    "LGBM_model = LGBMRegressor(random_state=42)\n",
    "LGBM_cv_model = GridSearchCV(\n",
    "                estimator= LGBM_model, \n",
    "                param_grid=param_grid,\n",
    "                scoring='neg_mean_absolute_error',\n",
    "                cv=5, \n",
    "                n_jobs=-1, \n",
    "                verbose=2\n",
    ")\n",
    "\n",
    "LGBM_cv_model.fit(X_train, y_train)\n",
    "print(\"Best Params: \", LGBM_cv_model.best_params_)\n",
    "print(\"Best Score : \", LGBM_cv_model.best_score_)\n",
    "\n",
    "LGBM_y_pred = LGBM_cv_model.predict(X_test)\n",
    "\n",
    "r_square = metrics.r2_score(y_test, LGBM_y_pred)\n",
    "mse = metrics.mean_squared_error(y_test, LGBM_y_pred)\n",
    "mae = metrics.median_absolute_error(y_test, LGBM_y_pred)\n",
    "ev = metrics.explained_variance_score(y_test, LGBM_y_pred)\n",
    "\n",
    "print(\"R Square               : \", r_square*100)\n",
    "print(\"Mean Squared Error     : \", mse)\n",
    "print(\"Root Mean Squared Error: \", mse**(1/2))\n",
    "print(\"Median Absolute Error  : \", mae)\n",
    "print(\"Explained Variance     : \", ev)"
   ]
  },
  {
   "cell_type": "code",
   "execution_count": 56,
   "metadata": {
    "scrolled": false
   },
   "outputs": [
    {
     "data": {
      "image/png": "[encoded data removed]",
      "text/plain": [
       "<Figure size 1080x2376 with 1 Axes>"
      ]
     },
     "metadata": {},
     "output_type": "display_data"
    }
   ],
   "source": [
    "columns = ['Rooms', 'Distance', 'Postcode', 'Bedroom2', 'Bathroom', 'Car',\n",
    "       'Landsize', 'BuildingArea', 'YearBuilt', 'Propertycount']\n",
    "\n",
    "LGBM_Importance = pd.DataFrame({\n",
    "    'Importance': LGBM_cv_model.best_estimator_.feature_importances_*100}, index=columns)\n",
    "LGBM_Importance.sort_values(by=\"Importance\", axis=0, ascending=True).plot(kind=\"barh\", color=\"b\")\n",
    "plt.xlabel(\"Variable Importance\")\n",
    "plt.gca().legend_ = None"
   ]
  },
  {
   "cell_type": "code",
   "execution_count": 57,
   "metadata": {},
   "outputs": [
    {
     "name": "stdout",
     "output_type": "stream",
     "text": [
      "R Square               :  90.92668403121135\n",
      "Mean Squared Error     :  39768962013.20433\n",
      "Root Mean Squared Error:  199421.56857572935\n",
      "Median Absolute Error  :  89943.10317239002\n",
      "Explained Variance     :  0.9092668403121136\n"
     ]
    }
   ],
   "source": [
    "LGBM_ypred_train = LGBM_cv_model.predict(X_train)\n",
    "\n",
    "LGBM_r_square_train = metrics.r2_score(y_train, LGBM_ypred_train)\n",
    "LGBM_mse_train = metrics.mean_squared_error(y_train, LGBM_ypred_train)\n",
    "LGBM_mae_train = metrics.median_absolute_error(y_train, LGBM_ypred_train)\n",
    "LGBM_ev_train = metrics.explained_variance_score(y_train, LGBM_ypred_train)\n",
    "\n",
    "print(\"R Square               : \", LGBM_r_square_train*100)\n",
    "print(\"Mean Squared Error     : \", LGBM_mse_train)\n",
    "print(\"Root Mean Squared Error: \", LGBM_mse_train**(1/2))\n",
    "print(\"Median Absolute Error  : \", LGBM_mae_train)\n",
    "print(\"Explained Variance     : \", LGBM_ev_train)"
   ]
  },
  {
   "cell_type": "code",
   "execution_count": 58,
   "metadata": {},
   "outputs": [
    {
     "name": "stdout",
     "output_type": "stream",
     "text": [
      "R Square               :  82.5531093090884\n",
      "Mean Squared Error     :  82788381162.49806\n",
      "Root Mean Squared Error:  287729.70156467694\n",
      "Median Absolute Error  :  110604.08173836951\n",
      "Explained Variance     :  0.8257445569149874\n"
     ]
    }
   ],
   "source": [
    "LGBM_ypred_test = LGBM_cv_model.predict(X_test)\n",
    "\n",
    "LGBM_r_square_test = metrics.r2_score(y_test, LGBM_ypred_test)\n",
    "LGBM_mse_test = metrics.mean_squared_error(y_test, LGBM_ypred_test)\n",
    "LGBM_mae_test = metrics.median_absolute_error(y_test, LGBM_ypred_test)\n",
    "LGBM_ev_test = metrics.explained_variance_score(y_test, LGBM_ypred_test)\n",
    "\n",
    "print(\"R Square               : \", LGBM_r_square_test*100)\n",
    "print(\"Mean Squared Error     : \", LGBM_mse_test)\n",
    "print(\"Root Mean Squared Error: \", LGBM_mse_test**(1/2))\n",
    "print(\"Median Absolute Error  : \", LGBM_mae_test)\n",
    "print(\"Explained Variance     : \", LGBM_ev_test)"
   ]
  },
  {
   "cell_type": "code",
   "execution_count": 59,
   "metadata": {
    "scrolled": true
   },
   "outputs": [
    {
     "data": {
      "text/html": [
       "<div>\n",
       "<style scoped>\n",
       "    .dataframe tbody tr th:only-of-type {\n",
       "        vertical-align: middle;\n",
       "    }\n",
       "\n",
       "    .dataframe tbody tr th {\n",
       "        vertical-align: top;\n",
       "    }\n",
       "\n",
       "    .dataframe thead th {\n",
       "        text-align: right;\n",
       "    }\n",
       "</style>\n",
       "<table border=\"1\" class=\"dataframe\">\n",
       "  <thead>\n",
       "    <tr style=\"text-align: right;\">\n",
       "      <th></th>\n",
       "      <th>0</th>\n",
       "      <th>1</th>\n",
       "    </tr>\n",
       "  </thead>\n",
       "  <tbody>\n",
       "    <tr>\n",
       "      <th>Model</th>\n",
       "      <td>Train CV Score</td>\n",
       "      <td>Test CV Score</td>\n",
       "    </tr>\n",
       "    <tr>\n",
       "      <th>R Square (R2)</th>\n",
       "      <td>0.91</td>\n",
       "      <td>0.83</td>\n",
       "    </tr>\n",
       "    <tr>\n",
       "      <th>Mean Squared Error (MSE)</th>\n",
       "      <td>39768962013.20</td>\n",
       "      <td>82788381162.50</td>\n",
       "    </tr>\n",
       "    <tr>\n",
       "      <th>Root Mean Squared Error (RMSE)</th>\n",
       "      <td>199421.57</td>\n",
       "      <td>287729.70</td>\n",
       "    </tr>\n",
       "    <tr>\n",
       "      <th>Median Absolute Error (MAE)</th>\n",
       "      <td>89943.10</td>\n",
       "      <td>110604.08</td>\n",
       "    </tr>\n",
       "    <tr>\n",
       "      <th>Explained Variance (EV)</th>\n",
       "      <td>0.91</td>\n",
       "      <td>0.83</td>\n",
       "    </tr>\n",
       "  </tbody>\n",
       "</table>\n",
       "</div>"
      ],
      "text/plain": [
       "                                             0              1\n",
       "Model                           Train CV Score  Test CV Score\n",
       "R Square (R2)                             0.91           0.83\n",
       "Mean Squared Error (MSE)        39768962013.20 82788381162.50\n",
       "Root Mean Squared Error (RMSE)       199421.57      287729.70\n",
       "Median Absolute Error (MAE)           89943.10      110604.08\n",
       "Explained Variance (EV)                   0.91           0.83"
      ]
     },
     "execution_count": 59,
     "metadata": {},
     "output_type": "execute_result"
    }
   ],
   "source": [
    "models = pd.DataFrame({\n",
    "    'Model': ['Train CV Score', 'Test CV Score'],\n",
    "    'R Square (R2)': [LGBM_r_square_train, LGBM_r_square_test],    \n",
    "    'Mean Squared Error (MSE)': [LGBM_mse_train, LGBM_mse_test],    \n",
    "    'Root Mean Squared Error (RMSE)': [LGBM_mse_train**(1/2), LGBM_mse_test**(1/2)],\n",
    "    'Median Absolute Error (MAE)': [LGBM_mae_train, LGBM_mae_test],  \n",
    "    'Explained Variance (EV)': [LGBM_ev_train, LGBM_ev_test], \n",
    "})\n",
    "\n",
    "models.sort_values(by='Root Mean Squared Error (RMSE)', ascending=True).T"
   ]
  },
  {
   "cell_type": "code",
   "execution_count": 60,
   "metadata": {
    "scrolled": true
   },
   "outputs": [
    {
     "data": {
      "text/plain": [
       "<matplotlib.axes._subplots.AxesSubplot at 0x1465294a280>"
      ]
     },
     "execution_count": 60,
     "metadata": {},
     "output_type": "execute_result"
    },
    {
     "data": {
      "image/png": "[encoded data removed]",
      "text/plain": [
       "<Figure size 1080x2376 with 1 Axes>"
      ]
     },
     "metadata": {},
     "output_type": "display_data"
    }
   ],
   "source": [
    "sns.distplot(y_train - LGBM_ypred_train)\n",
    "sns.distplot(y_test - LGBM_ypred_test)"
   ]
  },
  {
   "cell_type": "markdown",
   "metadata": {},
   "source": [
    "**Basic Evaluation of LGBM Regressor Model**\n",
    "\n",
    "1. There is an overfitting in RMSE score\n",
    "2. MAE score is relative fit\n",
    "3. The error distribution between train and test does not vary too much"
   ]
  },
  {
   "cell_type": "markdown",
   "metadata": {},
   "source": [
    "# Tuning Model - XGBoost"
   ]
  },
  {
   "cell_type": "code",
   "execution_count": 61,
   "metadata": {},
   "outputs": [
    {
     "name": "stdout",
     "output_type": "stream",
     "text": [
      "Fitting 5 folds for each of 96 candidates, totalling 480 fits\n"
     ]
    },
    {
     "name": "stderr",
     "output_type": "stream",
     "text": [
      "[Parallel(n_jobs=-1)]: Using backend LokyBackend with 12 concurrent workers.\n",
      "[Parallel(n_jobs=-1)]: Done  17 tasks      | elapsed:    5.4s\n",
      "[Parallel(n_jobs=-1)]: Done 138 tasks      | elapsed:   11.5s\n",
      "[Parallel(n_jobs=-1)]: Done 341 tasks      | elapsed:   21.9s\n",
      "[Parallel(n_jobs=-1)]: Done 480 out of 480 | elapsed:   29.8s finished\n"
     ]
    },
    {
     "name": "stdout",
     "output_type": "stream",
     "text": [
      "[16:41:53] WARNING: C:\\Users\\Administrator\\workspace\\xgboost-win64_release_1.2.0\\src\\learner.cc:516: \n",
      "Parameters: { bootstrap, min_samples_split, num_iterations } might not be used.\n",
      "\n",
      "  This may not be accurate due to some parameters are only used in language bindings but\n",
      "  passed down to XGBoost core.  Or some parameters are not used but slip through this\n",
      "  verification. Please open an issue if you find above cases.\n",
      "\n",
      "\n",
      "Best Params:  {'bootstrap': True, 'colsample_bytree': 0.4, 'learning_rate': 0.1, 'max_bin': 100, 'max_depth': 3, 'min_samples_split': 2, 'n_estimators': 500, 'num_iterations': 500}\n",
      "Best Score :  -173880.08857351038\n",
      "R Square               :  82.259731155924\n",
      "Mean Squared Error     :  84180509009.18518\n",
      "Root Mean Squared Error:  290138.775432008\n",
      "Median Absolute Error  :  113761.6875\n",
      "Explained Variance     :  0.8227157224856173\n"
     ]
    }
   ],
   "source": [
    "# Model Tuning\n",
    "param_grid = {\n",
    "    'learning_rate': [0.1, 0.01],\n",
    "    'max_depth': [3],\n",
    "    'colsample_bytree': [0.4, 0.7, 1],\n",
    "    'n_estimators': [300, 500],\n",
    "    'bootstrap': [True, False],\n",
    "    'min_samples_split' : [2, 5],\n",
    "    'max_bin': [100, 200],\n",
    "    'num_iterations': [500]\n",
    "}\n",
    "\n",
    "XGB_model = XGBRegressor(random_state=42)\n",
    "XGB_cv_model = GridSearchCV(\n",
    "    estimator=XGB_model, \n",
    "    param_grid=param_grid,\n",
    "    scoring='neg_mean_absolute_error',\n",
    "    cv=5, \n",
    "    n_jobs=-1, \n",
    "    verbose=2)\n",
    "\n",
    "XGB_cv_model.fit(X_train, y_train)\n",
    "print(\"Best Params: \", XGB_cv_model.best_params_)\n",
    "print(\"Best Score : \", XGB_cv_model.best_score_)\n",
    "\n",
    "XGB_y_pred = XGB_cv_model.predict(X_test)\n",
    "\n",
    "r_square = metrics.r2_score(y_test, XGB_y_pred)\n",
    "mse = metrics.mean_squared_error(y_test, XGB_y_pred)\n",
    "mae = metrics.median_absolute_error(y_test, XGB_y_pred)\n",
    "ev = metrics.explained_variance_score(y_test, XGB_y_pred)\n",
    "\n",
    "print(\"R Square               : \", r_square*100)\n",
    "print(\"Mean Squared Error     : \", mse)\n",
    "print(\"Root Mean Squared Error: \", mse**(1/2))\n",
    "print(\"Median Absolute Error  : \", mae)\n",
    "print(\"Explained Variance     : \", ev)"
   ]
  },
  {
   "cell_type": "code",
   "execution_count": 62,
   "metadata": {
    "scrolled": false
   },
   "outputs": [
    {
     "data": {
      "image/png": "[encoded data removed]",
      "text/plain": [
       "<Figure size 1080x2376 with 1 Axes>"
      ]
     },
     "metadata": {},
     "output_type": "display_data"
    }
   ],
   "source": [
    "columns = ['Rooms', 'Distance', 'Postcode', 'Bedroom2', 'Bathroom', 'Car',\n",
    "       'Landsize', 'BuildingArea', 'YearBuilt', 'Propertycount']\n",
    "\n",
    "XGB_Importance = pd.DataFrame({\n",
    "    'Importance': XGB_cv_model.best_estimator_.feature_importances_*100}, index=columns)\n",
    "XGB_Importance.sort_values(by=\"Importance\", axis=0, ascending=True).plot(kind=\"barh\", color=\"b\")\n",
    "plt.xlabel(\"Variable Importance\")\n",
    "plt.gca().legend_ = None"
   ]
  },
  {
   "cell_type": "code",
   "execution_count": 63,
   "metadata": {},
   "outputs": [
    {
     "name": "stdout",
     "output_type": "stream",
     "text": [
      "R Square               :  91.73788527860233\n",
      "Mean Squared Error     :  36213411682.594284\n",
      "Root Mean Squared Error:  190298.2177598999\n",
      "Median Absolute Error  :  89634.875\n",
      "Explained Variance     :  0.9173788532897575\n"
     ]
    }
   ],
   "source": [
    "XGB_ypred_train = XGB_cv_model.predict(X_train)\n",
    "\n",
    "XGB_r_square_train = metrics.r2_score(y_train, XGB_ypred_train)\n",
    "XGB_mse_train = metrics.mean_squared_error(y_train, XGB_ypred_train)\n",
    "XGB_mae_train = metrics.median_absolute_error(y_train, XGB_ypred_train)\n",
    "XGB_ev_train = metrics.explained_variance_score(y_train, XGB_ypred_train)\n",
    "\n",
    "print(\"R Square               : \", XGB_r_square_train*100)\n",
    "print(\"Mean Squared Error     : \", XGB_mse_train)\n",
    "print(\"Root Mean Squared Error: \", XGB_mse_train**(1/2))\n",
    "print(\"Median Absolute Error  : \", XGB_mae_train)\n",
    "print(\"Explained Variance     : \", XGB_ev_train)"
   ]
  },
  {
   "cell_type": "code",
   "execution_count": 64,
   "metadata": {},
   "outputs": [
    {
     "name": "stdout",
     "output_type": "stream",
     "text": [
      "R Square               :  82.259731155924\n",
      "Mean Squared Error     :  84180509009.18518\n",
      "Root Mean Squared Error:  290138.775432008\n",
      "Median Absolute Error  :  113761.6875\n",
      "Explained Variance     :  0.8227157224856173\n"
     ]
    }
   ],
   "source": [
    "XGB_ypred_test = XGB_cv_model.predict(X_test)\n",
    "\n",
    "XGB_r_square_test = metrics.r2_score(y_test, XGB_ypred_test)\n",
    "XGB_mse_test = metrics.mean_squared_error(y_test, XGB_ypred_test)\n",
    "XGB_mae_test = metrics.median_absolute_error(y_test, XGB_ypred_test)\n",
    "XGB_ev_test = metrics.explained_variance_score(y_test, XGB_ypred_test)\n",
    "\n",
    "print(\"R Square               : \", XGB_r_square_test*100)\n",
    "print(\"Mean Squared Error     : \", XGB_mse_test)\n",
    "print(\"Root Mean Squared Error: \", XGB_mse_test**(1/2))\n",
    "print(\"Median Absolute Error  : \", XGB_mae_test)\n",
    "print(\"Explained Variance     : \", XGB_ev_test)"
   ]
  },
  {
   "cell_type": "code",
   "execution_count": 65,
   "metadata": {},
   "outputs": [
    {
     "data": {
      "text/html": [
       "<div>\n",
       "<style scoped>\n",
       "    .dataframe tbody tr th:only-of-type {\n",
       "        vertical-align: middle;\n",
       "    }\n",
       "\n",
       "    .dataframe tbody tr th {\n",
       "        vertical-align: top;\n",
       "    }\n",
       "\n",
       "    .dataframe thead th {\n",
       "        text-align: right;\n",
       "    }\n",
       "</style>\n",
       "<table border=\"1\" class=\"dataframe\">\n",
       "  <thead>\n",
       "    <tr style=\"text-align: right;\">\n",
       "      <th></th>\n",
       "      <th>0</th>\n",
       "      <th>1</th>\n",
       "    </tr>\n",
       "  </thead>\n",
       "  <tbody>\n",
       "    <tr>\n",
       "      <th>Model</th>\n",
       "      <td>Train CV Score</td>\n",
       "      <td>Test CV Score</td>\n",
       "    </tr>\n",
       "    <tr>\n",
       "      <th>R Square (R2)</th>\n",
       "      <td>0.92</td>\n",
       "      <td>0.82</td>\n",
       "    </tr>\n",
       "    <tr>\n",
       "      <th>Mean Squared Error (MSE)</th>\n",
       "      <td>36213411682.59</td>\n",
       "      <td>84180509009.19</td>\n",
       "    </tr>\n",
       "    <tr>\n",
       "      <th>Root Mean Squared Error (RMSE)</th>\n",
       "      <td>190298.22</td>\n",
       "      <td>290138.78</td>\n",
       "    </tr>\n",
       "    <tr>\n",
       "      <th>Median Absolute Error (MAE)</th>\n",
       "      <td>89634.88</td>\n",
       "      <td>113761.69</td>\n",
       "    </tr>\n",
       "    <tr>\n",
       "      <th>Explained Variance (EV)</th>\n",
       "      <td>0.92</td>\n",
       "      <td>0.82</td>\n",
       "    </tr>\n",
       "  </tbody>\n",
       "</table>\n",
       "</div>"
      ],
      "text/plain": [
       "                                             0              1\n",
       "Model                           Train CV Score  Test CV Score\n",
       "R Square (R2)                             0.92           0.82\n",
       "Mean Squared Error (MSE)        36213411682.59 84180509009.19\n",
       "Root Mean Squared Error (RMSE)       190298.22      290138.78\n",
       "Median Absolute Error (MAE)           89634.88      113761.69\n",
       "Explained Variance (EV)                   0.92           0.82"
      ]
     },
     "execution_count": 65,
     "metadata": {},
     "output_type": "execute_result"
    }
   ],
   "source": [
    "models = pd.DataFrame({\n",
    "    'Model': ['Train CV Score', 'Test CV Score'],\n",
    "    'R Square (R2)': [XGB_r_square_train, XGB_r_square_test],    \n",
    "    'Mean Squared Error (MSE)': [XGB_mse_train, XGB_mse_test],    \n",
    "    'Root Mean Squared Error (RMSE)': [XGB_mse_train**(1/2), XGB_mse_test**(1/2)],\n",
    "    'Median Absolute Error (MAE)': [XGB_mae_train, XGB_mae_test],  \n",
    "    'Explained Variance (EV)': [XGB_ev_train, XGB_ev_test], \n",
    "})\n",
    "\n",
    "models.sort_values(by='Root Mean Squared Error (RMSE)', ascending=True).T"
   ]
  },
  {
   "cell_type": "code",
   "execution_count": 66,
   "metadata": {
    "scrolled": true
   },
   "outputs": [
    {
     "data": {
      "text/plain": [
       "<matplotlib.axes._subplots.AxesSubplot at 0x14660e11370>"
      ]
     },
     "execution_count": 66,
     "metadata": {},
     "output_type": "execute_result"
    },
    {
     "data": {
      "image/png": "[encoded data removed]",
      "text/plain": [
       "<Figure size 1080x2376 with 1 Axes>"
      ]
     },
     "metadata": {},
     "output_type": "display_data"
    }
   ],
   "source": [
    "sns.distplot(y_train - XGB_ypred_train)\n",
    "\n",
    "sns.distplot(y_test - XGB_ypred_test)"
   ]
  },
  {
   "cell_type": "markdown",
   "metadata": {},
   "source": [
    "**Basic Evaluation of XGB Regressor Model**\n",
    "\n",
    "1. There is an overfitting in RMSE score\n",
    "2. MAE score is quite overfit\n",
    "3. The error distribution between train and test does not vary too much"
   ]
  },
  {
   "cell_type": "markdown",
   "metadata": {},
   "source": [
    "# D. Model Evaluation (30 poin)\n",
    "\n",
    "1. Pilih 1 Model Evaluation untuk menilai performa Model ML yang Anda buat, beri alasan pemilihan!\n",
    "\n",
    "2. Tingkatkan performa model ML sesuai jenis Model Evaluation yang Anda pilih. Jelaskan setiap langkah Anda dalam Model Building & Hyper-parameter Tuning!\n",
    "\n",
    "3. Beri penjelasan setiap angka (output) dari Model Evaluation serta pengaruhnya pada keuntungan/kerugian perusahaan real estate!"
   ]
  },
  {
   "cell_type": "markdown",
   "metadata": {},
   "source": [
    "# HYPERPARAMETER EXPLANATION"
   ]
  },
  {
   "cell_type": "markdown",
   "metadata": {},
   "source": [
    "**Di dalam Hyperparameter Tuning sebelumnya, model LGBM menggunakan hyperparameter:**\n",
    "\n",
    "1. learning_rate': [0.1, 0.01],\n",
    "2. max_depth': [3],\n",
    "3. colsample_bytree': [0.4, 0.7, 1],\n",
    "4. n_estimators': [300, 500],\n",
    "5. 'bootstrap': [True, False],\n",
    "6. 'min_samples_split' : [2, 5],\n",
    "7. 'max_bin': [100, 200],\n",
    "\n",
    "**Alasan dari pemilihan hyperparameter:**\n",
    "\n",
    "1. Menggunakan learning_rate yang kecil dengan with num_iterations yang besar untuk meningkatkan akurasi\n",
    "2. Menggunakan max_bin untuk meningkatkan akurasi\n",
    "3. Menggunakan max_depth untuk menghindari growing deep tree\n",
    "4. Menggunakan colsample_bytree untuk membuat sample ratio dari columns ketika membangun setiap tree.\n"
   ]
  },
  {
   "cell_type": "markdown",
   "metadata": {},
   "source": [
    "### MODEL EVALUATION & SUMMARY"
   ]
  },
  {
   "cell_type": "markdown",
   "metadata": {},
   "source": [
    "There are three metrics which are generally used for evaluation of Regression problems (like Linear Regression, Decision Tree Regression, Random Forest Regression etc.):\n",
    "\n",
    "1. Mean Absolute Error (MAE): This measures the absolute average distance between the real data and the predicted data, but it fails to punish large errors in prediction.\n",
    "2. Mean Square Error (MSE): This measures the squared average distance between the real data and the predicted data. Here, larger errors are well noted (better than MAE). But the disadvantage is that it also squares up the units of data as well. So, evaluation with different units is not at all justified.\n",
    "3. Root Mean Squared Error (RMSE): This is actually the square root of MSE. Also, this metrics solves the problem of squaring the units.\n",
    "\n",
    "According to JJ[1] and Sab[2], using MAE over MSE and RMSE is more advantageous. MAE is the most intuitive of them all. The name in itself is pretty good at telling us what’s going on. RMSE does not describe average error alone and has other implications that are more difficult to tease out and understand.\n",
    "\n",
    "[1] https://medium.com/human-in-a-machine-world/mae-and-rmse-which-metric-is-better-e60ac3bde13d <br>\n",
    "[2] http://zerospectrum.com/2019/06/02/mae-vs-mse-vs-rmse/"
   ]
  },
  {
   "cell_type": "code",
   "execution_count": 67,
   "metadata": {},
   "outputs": [
    {
     "name": "stdout",
     "output_type": "stream",
     "text": [
      "Average Price of Dataset =  1094470.9873772792\n",
      "XGB MAE Score= 113761.6875\n",
      "LGBM MAE Score= 110604.08173836951\n",
      "XGB MAE % Difference with Average Price = 10.394216823655718\n",
      "LGBM MAE % Difference with Average Price = 10.105711619036526\n"
     ]
    }
   ],
   "source": [
    "price_x = df2_copy['Price'].mean()\n",
    "\n",
    "print('Average Price of Dataset = ', price_x)\n",
    "\n",
    "print('XGB MAE Score=', (XGB_mae_test))\n",
    "print('LGBM MAE Score=', (LGBM_mae_test))\n",
    "\n",
    "print('XGB MAE % Difference with Average Price =', ((XGB_mae_test/price_x)*100))\n",
    "print('LGBM MAE % Difference with Average Price =', ((LGBM_mae_test/price_x)*100))"
   ]
  },
  {
   "cell_type": "markdown",
   "metadata": {},
   "source": [
    "**MAE Evaluation**\n",
    "\n",
    "1. From this information, we could see that LGBM model has the best MAE score, because it only shows 10.105% difference from average price of the house\n",
    "2. Meanwhile, XGB model has the biggest MAE score of 10.39% difference from the average price in the dataset."
   ]
  },
  {
   "cell_type": "code",
   "execution_count": 68,
   "metadata": {
    "scrolled": true
   },
   "outputs": [
    {
     "data": {
      "text/html": [
       "<div>\n",
       "<style scoped>\n",
       "    .dataframe tbody tr th:only-of-type {\n",
       "        vertical-align: middle;\n",
       "    }\n",
       "\n",
       "    .dataframe tbody tr th {\n",
       "        vertical-align: top;\n",
       "    }\n",
       "\n",
       "    .dataframe thead th {\n",
       "        text-align: right;\n",
       "    }\n",
       "</style>\n",
       "<table border=\"1\" class=\"dataframe\">\n",
       "  <thead>\n",
       "    <tr style=\"text-align: right;\">\n",
       "      <th></th>\n",
       "      <th>0</th>\n",
       "      <th>1</th>\n",
       "      <th>2</th>\n",
       "      <th>3</th>\n",
       "    </tr>\n",
       "  </thead>\n",
       "  <tbody>\n",
       "    <tr>\n",
       "      <th>Model</th>\n",
       "      <td>XGB  Train</td>\n",
       "      <td>XGB  Test</td>\n",
       "      <td>LGBM Train</td>\n",
       "      <td>LGBM Test</td>\n",
       "    </tr>\n",
       "    <tr>\n",
       "      <th>R Square (R2)</th>\n",
       "      <td>0.92</td>\n",
       "      <td>0.82</td>\n",
       "      <td>0.91</td>\n",
       "      <td>0.83</td>\n",
       "    </tr>\n",
       "    <tr>\n",
       "      <th>Mean Squared Error (MSE)</th>\n",
       "      <td>36213411682.59</td>\n",
       "      <td>84180509009.19</td>\n",
       "      <td>39768962013.20</td>\n",
       "      <td>82788381162.50</td>\n",
       "    </tr>\n",
       "    <tr>\n",
       "      <th>Root Mean Squared Error (RMSE)</th>\n",
       "      <td>190298.22</td>\n",
       "      <td>290138.78</td>\n",
       "      <td>199421.57</td>\n",
       "      <td>287729.70</td>\n",
       "    </tr>\n",
       "    <tr>\n",
       "      <th>Median Absolute Error (MAE)</th>\n",
       "      <td>89634.88</td>\n",
       "      <td>113761.69</td>\n",
       "      <td>89943.10</td>\n",
       "      <td>110604.08</td>\n",
       "    </tr>\n",
       "    <tr>\n",
       "      <th>Explained Variance (EV)</th>\n",
       "      <td>0.92</td>\n",
       "      <td>0.82</td>\n",
       "      <td>0.91</td>\n",
       "      <td>0.83</td>\n",
       "    </tr>\n",
       "  </tbody>\n",
       "</table>\n",
       "</div>"
      ],
      "text/plain": [
       "                                            0              1              2  \\\n",
       "Model                             XGB  Train       XGB  Test     LGBM Train   \n",
       "R Square (R2)                            0.92           0.82           0.91   \n",
       "Mean Squared Error (MSE)       36213411682.59 84180509009.19 39768962013.20   \n",
       "Root Mean Squared Error (RMSE)      190298.22      290138.78      199421.57   \n",
       "Median Absolute Error (MAE)          89634.88      113761.69       89943.10   \n",
       "Explained Variance (EV)                  0.92           0.82           0.91   \n",
       "\n",
       "                                            3  \n",
       "Model                               LGBM Test  \n",
       "R Square (R2)                            0.83  \n",
       "Mean Squared Error (MSE)       82788381162.50  \n",
       "Root Mean Squared Error (RMSE)      287729.70  \n",
       "Median Absolute Error (MAE)         110604.08  \n",
       "Explained Variance (EV)                  0.83  "
      ]
     },
     "execution_count": 68,
     "metadata": {},
     "output_type": "execute_result"
    }
   ],
   "source": [
    "RMSE_XGB_train = (XGB_mse_train**(1/2))\n",
    "RMSE_XGB_test = (XGB_mse_test**(1/2))\n",
    "RMSE_LGBM_train = (LGBM_mse_train**(1/2))\n",
    "RMSE_LGBM_test = (LGBM_mse_test**(1/2))\n",
    "\n",
    "\n",
    "models = pd.DataFrame({\n",
    "    'Model': ['XGB  Train ', 'XGB  Test', 'LGBM Train', 'LGBM Test'],\n",
    "    'R Square (R2)': [XGB_r_square_train, XGB_r_square_test, \n",
    "                      LGBM_r_square_train, LGBM_r_square_test],    \n",
    "    'Mean Squared Error (MSE)': [XGB_mse_train, XGB_mse_test, \n",
    "                                 LGBM_mse_train, LGBM_mse_test],   \n",
    "    'Root Mean Squared Error (RMSE)': [RMSE_XGB_train, RMSE_XGB_test, \n",
    "                                       RMSE_LGBM_train, RMSE_LGBM_test],\n",
    "    'Median Absolute Error (MAE)': [XGB_mae_train, XGB_mae_test, \n",
    "                                    LGBM_mae_train, LGBM_mae_test],  \n",
    "    'Explained Variance (EV)': [XGB_ev_train, XGB_ev_test, \n",
    "                                LGBM_ev_train, LGBM_ev_test], \n",
    "})\n",
    "\n",
    "models.T"
   ]
  },
  {
   "cell_type": "markdown",
   "metadata": {},
   "source": [
    "**Model Score Summary**\n",
    "\n",
    "The information above summarize data from previous model analysis. Further analysis is needed and would be discussed in following sections."
   ]
  },
  {
   "cell_type": "code",
   "execution_count": 69,
   "metadata": {},
   "outputs": [
    {
     "data": {
      "text/html": [
       "<div>\n",
       "<style scoped>\n",
       "    .dataframe tbody tr th:only-of-type {\n",
       "        vertical-align: middle;\n",
       "    }\n",
       "\n",
       "    .dataframe tbody tr th {\n",
       "        vertical-align: top;\n",
       "    }\n",
       "\n",
       "    .dataframe thead th {\n",
       "        text-align: right;\n",
       "    }\n",
       "</style>\n",
       "<table border=\"1\" class=\"dataframe\">\n",
       "  <thead>\n",
       "    <tr style=\"text-align: right;\">\n",
       "      <th></th>\n",
       "      <th>0</th>\n",
       "      <th>1</th>\n",
       "    </tr>\n",
       "  </thead>\n",
       "  <tbody>\n",
       "    <tr>\n",
       "      <th>Model</th>\n",
       "      <td>XGB Difference Score</td>\n",
       "      <td>LGBM Difference Score</td>\n",
       "    </tr>\n",
       "    <tr>\n",
       "      <th>R Square (R2)</th>\n",
       "      <td>0.09</td>\n",
       "      <td>0.08</td>\n",
       "    </tr>\n",
       "    <tr>\n",
       "      <th>Mean Squared Error (MSE)</th>\n",
       "      <td>-47967097326.59</td>\n",
       "      <td>-43019419149.29</td>\n",
       "    </tr>\n",
       "    <tr>\n",
       "      <th>Root Mean Squared Error (RMSE)</th>\n",
       "      <td>-99840.56</td>\n",
       "      <td>-88308.13</td>\n",
       "    </tr>\n",
       "    <tr>\n",
       "      <th>Median Absolute Error (MAE)</th>\n",
       "      <td>-24126.81</td>\n",
       "      <td>-20660.98</td>\n",
       "    </tr>\n",
       "    <tr>\n",
       "      <th>Explained Variance (EV)</th>\n",
       "      <td>0.09</td>\n",
       "      <td>0.08</td>\n",
       "    </tr>\n",
       "  </tbody>\n",
       "</table>\n",
       "</div>"
      ],
      "text/plain": [
       "                                                   0                      1\n",
       "Model                           XGB Difference Score  LGBM Difference Score\n",
       "R Square (R2)                                   0.09                   0.08\n",
       "Mean Squared Error (MSE)             -47967097326.59        -43019419149.29\n",
       "Root Mean Squared Error (RMSE)             -99840.56              -88308.13\n",
       "Median Absolute Error (MAE)                -24126.81              -20660.98\n",
       "Explained Variance (EV)                         0.09                   0.08"
      ]
     },
     "execution_count": 69,
     "metadata": {},
     "output_type": "execute_result"
    }
   ],
   "source": [
    "RMSE_XGB_train = (XGB_mse_train**(1/2))\n",
    "RMSE_XGB_test = (XGB_mse_test**(1/2))\n",
    "RMSE_LGBM_train = (LGBM_mse_train**(1/2))\n",
    "RMSE_LGBM_test = (LGBM_mse_test**(1/2))\n",
    "\n",
    "\n",
    "models = pd.DataFrame({\n",
    "    'Model': ['XGB Difference Score', 'LGBM Difference Score' ],\n",
    "    'R Square (R2)': [((XGB_r_square_train-XGB_r_square_test)), \n",
    "                      ((LGBM_r_square_train-LGBM_r_square_test))],    \n",
    "    'Mean Squared Error (MSE)': [((XGB_mse_train-XGB_mse_test)), \n",
    "                                 ((LGBM_mse_train-LGBM_mse_test))],   \n",
    "    'Root Mean Squared Error (RMSE)': [((RMSE_XGB_train-RMSE_XGB_test)), \n",
    "                                       ((RMSE_LGBM_train-RMSE_LGBM_test))],\n",
    "    'Median Absolute Error (MAE)': [((XGB_mae_train-XGB_mae_test)), \n",
    "                                    ((LGBM_mae_train-LGBM_mae_test))],  \n",
    "    'Explained Variance (EV)': [((XGB_ev_train-XGB_ev_test)), \n",
    "                                ((LGBM_ev_train-LGBM_ev_test))], \n",
    "})\n",
    "\n",
    "models.T"
   ]
  },
  {
   "cell_type": "markdown",
   "metadata": {},
   "source": [
    "**Difference Score Model Summary**\n",
    "\n",
    "With a further evaluation, comparing the difference between data train result and data test result shows a following inference:\n",
    "\n",
    "1. Both LGBM and XGB has same stability, because its R2 and EV difference score is similar.\n",
    "2. LGBM has the lowest MSE and RMSE difference score than other models. This means that LGBM model has lower error prediction than other models.\n",
    "3. LGBM has the lowest MAE difference than other models. This means that LGBM is relatively more stable when making a prediction with average score of the house price dataset."
   ]
  },
  {
   "cell_type": "code",
   "execution_count": 70,
   "metadata": {
    "scrolled": true
   },
   "outputs": [
    {
     "data": {
      "text/html": [
       "<div>\n",
       "<style scoped>\n",
       "    .dataframe tbody tr th:only-of-type {\n",
       "        vertical-align: middle;\n",
       "    }\n",
       "\n",
       "    .dataframe tbody tr th {\n",
       "        vertical-align: top;\n",
       "    }\n",
       "\n",
       "    .dataframe thead th {\n",
       "        text-align: right;\n",
       "    }\n",
       "</style>\n",
       "<table border=\"1\" class=\"dataframe\">\n",
       "  <thead>\n",
       "    <tr style=\"text-align: right;\">\n",
       "      <th></th>\n",
       "      <th>0</th>\n",
       "      <th>1</th>\n",
       "    </tr>\n",
       "  </thead>\n",
       "  <tbody>\n",
       "    <tr>\n",
       "      <th>Model</th>\n",
       "      <td>XGB % Difference Score</td>\n",
       "      <td>LGBM % Difference Score</td>\n",
       "    </tr>\n",
       "    <tr>\n",
       "      <th>R Square (R2)</th>\n",
       "      <td>-0.12</td>\n",
       "      <td>-0.10</td>\n",
       "    </tr>\n",
       "    <tr>\n",
       "      <th>Mean Squared Error (MSE)</th>\n",
       "      <td>0.57</td>\n",
       "      <td>0.52</td>\n",
       "    </tr>\n",
       "    <tr>\n",
       "      <th>Root Mean Squared Error (RMSE)</th>\n",
       "      <td>0.34</td>\n",
       "      <td>0.31</td>\n",
       "    </tr>\n",
       "    <tr>\n",
       "      <th>Median Absolute Error (MAE)</th>\n",
       "      <td>0.21</td>\n",
       "      <td>0.19</td>\n",
       "    </tr>\n",
       "    <tr>\n",
       "      <th>Explained Variance (EV)</th>\n",
       "      <td>-0.12</td>\n",
       "      <td>-0.10</td>\n",
       "    </tr>\n",
       "  </tbody>\n",
       "</table>\n",
       "</div>"
      ],
      "text/plain": [
       "                                                     0  \\\n",
       "Model                           XGB % Difference Score   \n",
       "R Square (R2)                                    -0.12   \n",
       "Mean Squared Error (MSE)                          0.57   \n",
       "Root Mean Squared Error (RMSE)                    0.34   \n",
       "Median Absolute Error (MAE)                       0.21   \n",
       "Explained Variance (EV)                          -0.12   \n",
       "\n",
       "                                                      1  \n",
       "Model                           LGBM % Difference Score  \n",
       "R Square (R2)                                     -0.10  \n",
       "Mean Squared Error (MSE)                           0.52  \n",
       "Root Mean Squared Error (RMSE)                     0.31  \n",
       "Median Absolute Error (MAE)                        0.19  \n",
       "Explained Variance (EV)                           -0.10  "
      ]
     },
     "execution_count": 70,
     "metadata": {},
     "output_type": "execute_result"
    }
   ],
   "source": [
    "RMSE_XGB_train = (XGB_mse_train**(1/2))\n",
    "RMSE_XGB_test = (XGB_mse_test**(1/2))\n",
    "RMSE_LGBM_train = (LGBM_mse_train**(1/2))\n",
    "RMSE_LGBM_test = (LGBM_mse_test**(1/2))\n",
    "\n",
    "\n",
    "models = pd.DataFrame({\n",
    "    'Model': ['XGB % Difference Score', 'LGBM % Difference Score' ],\n",
    "    'R Square (R2)': [(1-(XGB_r_square_train/XGB_r_square_test)), \n",
    "                      (1-(LGBM_r_square_train/LGBM_r_square_test))],    \n",
    "    'Mean Squared Error (MSE)': [(1-(XGB_mse_train/XGB_mse_test)), \n",
    "                                 (1-(LGBM_mse_train/LGBM_mse_test))],   \n",
    "    'Root Mean Squared Error (RMSE)': [(1-(RMSE_XGB_train/RMSE_XGB_test)), \n",
    "                                       (1-(RMSE_LGBM_train/RMSE_LGBM_test))],\n",
    "    'Median Absolute Error (MAE)': [(1-(XGB_mae_train/XGB_mae_test)), \n",
    "                                    ((1-LGBM_mae_train/LGBM_mae_test))],  \n",
    "    'Explained Variance (EV)': [(1-(XGB_ev_train/XGB_ev_test)), \n",
    "                                (1-(LGBM_ev_train/LGBM_ev_test))], \n",
    "})\n",
    "\n",
    "models.T"
   ]
  },
  {
   "cell_type": "markdown",
   "metadata": {},
   "source": [
    "**% Difference Score Model Summary**\n",
    "\n",
    "With a further evaluation, comparing the % difference between data train result and data test result shows a following inference:\n",
    "\n",
    "1. LGBM has the lowest MSE and RMSE % difference score than XGB Regressor\n",
    "2. LGBM has the lowest MAE % difference than XGB regressor models\n",
    "3. The % difference score could help understand that LGBM has the best overall fit model in comparison to XGB Regressor, because the % difference score between each metric is the lowest"
   ]
  },
  {
   "cell_type": "markdown",
   "metadata": {},
   "source": [
    "### Model Prediction vs Perfect Fit Evaluation"
   ]
  },
  {
   "cell_type": "code",
   "execution_count": 71,
   "metadata": {},
   "outputs": [
    {
     "data": {
      "text/plain": [
       "count      4991.00\n",
       "mean    1094470.99\n",
       "std      670283.87\n",
       "min      131000.00\n",
       "25%      635000.00\n",
       "50%      903000.00\n",
       "75%     1370000.00\n",
       "max     5700000.00\n",
       "Name: Price, dtype: float64"
      ]
     },
     "execution_count": 71,
     "metadata": {},
     "output_type": "execute_result"
    }
   ],
   "source": [
    "price_x = df2_copy['Price'].describe()\n",
    "price_x"
   ]
  },
  {
   "cell_type": "code",
   "execution_count": 72,
   "metadata": {},
   "outputs": [
    {
     "data": {
      "text/plain": [
       "[Text(0, 0.5, 'Model Predictions'),\n",
       " Text(0.5, 0, 'Test True Y'),\n",
       " Text(0.5, 1.0, 'XGB Model Predictions vs Perfect Fit')]"
      ]
     },
     "execution_count": 72,
     "metadata": {},
     "output_type": "execute_result"
    },
    {
     "data": {
      "image/png": "[encoded data removed]",
      "text/plain": [
       "<Figure size 1080x360 with 2 Axes>"
      ]
     },
     "metadata": {},
     "output_type": "display_data"
    }
   ],
   "source": [
    "f, axes = plt.subplots(1, 2,figsize=(15,5))\n",
    "\n",
    "# Our model predictions\n",
    "plt.scatter(y_test,XGB_ypred_test)\n",
    "\n",
    "# Perfect predictions\n",
    "plt.plot(y_test,y_test,'r')\n",
    "\n",
    "errors = y_test.values.reshape(1498, 1) - XGB_ypred_test\n",
    "sns.distplot(errors, ax=axes[0])\n",
    "\n",
    "sns.despine(left=True, bottom=True)\n",
    "axes[0].set(xlabel='Error', ylabel='', title='XGB Error Histogram')\n",
    "axes[1].set(xlabel='Test True Y', ylabel='Model Predictions', title='XGB Model Predictions vs Perfect Fit')"
   ]
  },
  {
   "cell_type": "code",
   "execution_count": 73,
   "metadata": {},
   "outputs": [
    {
     "data": {
      "text/plain": [
       "[Text(0, 0.5, 'LGBM Model Predictions'),\n",
       " Text(0.5, 0, 'Test True Y'),\n",
       " Text(0.5, 1.0, 'LGBM Model Predictions vs Perfect Fit')]"
      ]
     },
     "execution_count": 73,
     "metadata": {},
     "output_type": "execute_result"
    },
    {
     "data": {
      "image/png": "[encoded data removed]",
      "text/plain": [
       "<Figure size 1080x360 with 2 Axes>"
      ]
     },
     "metadata": {},
     "output_type": "display_data"
    }
   ],
   "source": [
    "f, axes = plt.subplots(1, 2,figsize=(15,5))\n",
    "\n",
    "# Our model predictions\n",
    "plt.scatter(y_test,LGBM_ypred_test)\n",
    "\n",
    "# Perfect predictions\n",
    "plt.plot(y_test,y_test,'r')\n",
    "\n",
    "errors = y_test.values.reshape(1498, 1) - LGBM_ypred_test\n",
    "sns.distplot(errors, ax=axes[0])\n",
    "\n",
    "sns.despine(left=True, bottom=True)\n",
    "axes[0].set(xlabel='Error', ylabel='', title='LGBM Error Histogram')\n",
    "axes[1].set(xlabel='Test True Y', ylabel='LGBM Model Predictions', title='LGBM Model Predictions vs Perfect Fit')"
   ]
  },
  {
   "cell_type": "markdown",
   "metadata": {},
   "source": [
    "**Model predictions vs perfect fit**\n",
    "\n",
    "We can compare the model predictions with a perfect fit to see how accurate the model is.\n",
    "The red line represents the perfect prediction.\n",
    "All two  models shows a similar pattern. The results are being punish by the outliers, which are the expensive houses. \n",
    "1. Our model is not good predicting luxury houses. Or houses above 4 millions\n",
    "2. On the other hand, our model is good predicting the price of houses between 0 and  USD 3 million. There is a good fit, if we refer that the price distribution of the model is left skewed than normally distributed.\n",
    "3. It may be worth it retraining our model just on price houses below USD 4 million."
   ]
  },
  {
   "cell_type": "markdown",
   "metadata": {},
   "source": [
    "## CONCLUSION & FURTHER RESEARCH"
   ]
  },
  {
   "cell_type": "markdown",
   "metadata": {},
   "source": [
    "**Model Recommendation**\n",
    "\n",
    "Based on previous model evaluations, we could draw some conclusion and recommendation:\n",
    "\n",
    "1. Both XGB and LGBM model results is relatively close to each other. Hence, both of the models are recommended to be used in this analysis.\n",
    "2. LGBM has an upper advantage than XGB because it has the best overall score, and also **faster** process and iteration than XGB. Therefore, LGBM is a better model in comparison."
   ]
  },
  {
   "cell_type": "code",
   "execution_count": 77,
   "metadata": {},
   "outputs": [
    {
     "data": {
      "text/plain": [
       "BuildingArea     0.61\n",
       "Rooms            0.58\n",
       "Bedroom2         0.56\n",
       "Bathroom         0.53\n",
       "Car              0.29\n",
       "Longtitude       0.25\n",
       "Postcode         0.22\n",
       "Landsize         0.16\n",
       "Propertycount   -0.04\n",
       "Distance        -0.10\n",
       "Lattitude       -0.24\n",
       "YearBuilt       -0.31\n",
       "Name: Price, dtype: float64"
      ]
     },
     "execution_count": 77,
     "metadata": {},
     "output_type": "execute_result"
    }
   ],
   "source": [
    "corr_ranking = df2_copy.corr()['Price'].sort_values(ascending=False)[1:]\n",
    "corr_ranking"
   ]
  },
  {
   "cell_type": "code",
   "execution_count": 76,
   "metadata": {},
   "outputs": [
    {
     "data": {
      "text/html": [
       "<div>\n",
       "<style scoped>\n",
       "    .dataframe tbody tr th:only-of-type {\n",
       "        vertical-align: middle;\n",
       "    }\n",
       "\n",
       "    .dataframe tbody tr th {\n",
       "        vertical-align: top;\n",
       "    }\n",
       "\n",
       "    .dataframe thead th {\n",
       "        text-align: right;\n",
       "    }\n",
       "</style>\n",
       "<table border=\"1\" class=\"dataframe\">\n",
       "  <thead>\n",
       "    <tr style=\"text-align: right;\">\n",
       "      <th></th>\n",
       "      <th>Importance</th>\n",
       "    </tr>\n",
       "  </thead>\n",
       "  <tbody>\n",
       "    <tr>\n",
       "      <th>BuildingArea</th>\n",
       "      <td>58000</td>\n",
       "    </tr>\n",
       "    <tr>\n",
       "      <th>Landsize</th>\n",
       "      <td>49700</td>\n",
       "    </tr>\n",
       "    <tr>\n",
       "      <th>Distance</th>\n",
       "      <td>45400</td>\n",
       "    </tr>\n",
       "    <tr>\n",
       "      <th>Postcode</th>\n",
       "      <td>44400</td>\n",
       "    </tr>\n",
       "    <tr>\n",
       "      <th>Propertycount</th>\n",
       "      <td>35400</td>\n",
       "    </tr>\n",
       "    <tr>\n",
       "      <th>YearBuilt</th>\n",
       "      <td>32200</td>\n",
       "    </tr>\n",
       "    <tr>\n",
       "      <th>Rooms</th>\n",
       "      <td>12500</td>\n",
       "    </tr>\n",
       "    <tr>\n",
       "      <th>Car</th>\n",
       "      <td>10200</td>\n",
       "    </tr>\n",
       "    <tr>\n",
       "      <th>Bathroom</th>\n",
       "      <td>9900</td>\n",
       "    </tr>\n",
       "    <tr>\n",
       "      <th>Bedroom2</th>\n",
       "      <td>8600</td>\n",
       "    </tr>\n",
       "  </tbody>\n",
       "</table>\n",
       "</div>"
      ],
      "text/plain": [
       "               Importance\n",
       "BuildingArea        58000\n",
       "Landsize            49700\n",
       "Distance            45400\n",
       "Postcode            44400\n",
       "Propertycount       35400\n",
       "YearBuilt           32200\n",
       "Rooms               12500\n",
       "Car                 10200\n",
       "Bathroom             9900\n",
       "Bedroom2             8600"
      ]
     },
     "execution_count": 76,
     "metadata": {},
     "output_type": "execute_result"
    }
   ],
   "source": [
    "columns = ['Rooms', 'Distance', 'Postcode', 'Bedroom2', 'Bathroom', 'Car',\n",
    "       'Landsize', 'BuildingArea', 'YearBuilt', 'Propertycount']\n",
    "\n",
    "LGBM_Importance = pd.DataFrame({\n",
    "    'Importance': LGBM_cv_model.best_estimator_.feature_importances_*100}, index=columns)\n",
    "\n",
    "LGBM_Importance.sort_values(by='Importance', ascending=False)"
   ]
  },
  {
   "cell_type": "markdown",
   "metadata": {},
   "source": [
    "**CONCLUSION**\n",
    "\n",
    "**For Real Estate Company:**\n",
    "\n",
    "1. Consumers are willing to pay a higher price if they get a **bigger building area**. This imply that increasing building area is the most important to yield a higher value in house price.\n",
    "2. Consumers are also willing to pay a higher price if they get a **bigger landsize**. This imply that increasing landsize is determining house price, following BuildingArea\n",
    "3. Consumers are willing to pay a higher price for a location that is **more distant than Metro's Central Business District**. This imply that a central area is not favorable, or suburban gives higher price. This is probably because in Melbourne, suburban area is more expensive, because it is usually an elite area.\n",
    "4. Consumers are also willing to pay more if their neighborhood has **many property counted**. This means, if a neighborhood has only few houses, it will yield low price."
   ]
  },
  {
   "cell_type": "markdown",
   "metadata": {},
   "source": [
    "**Further Research**\n",
    "\n",
    "1. Based on the model prediction vs perfect fit analysis, it may be worthy to retrain data with **less than 4 million USD**\n",
    "2. Based on the model analysis, it is best to make a further test with **different year data**\n",
    "3. Since the feature importance between each model is different, it might be beneficial to conduct **further post-hoc analysis** to test the feature importance between models with consumer preference/behavior"
   ]
  }
 ],
 "metadata": {
  "kernelspec": {
   "display_name": "Python 3",
   "language": "python",
   "name": "python3"
  },
  "language_info": {
   "codemirror_mode": {
    "name": "ipython",
    "version": 3
   },
   "file_extension": ".py",
   "mimetype": "text/x-python",
   "name": "python",
   "nbconvert_exporter": "python",
   "pygments_lexer": "ipython3",
   "version": "3.8.3"
  }
 },
 "nbformat": 4,
 "nbformat_minor": 4
}
